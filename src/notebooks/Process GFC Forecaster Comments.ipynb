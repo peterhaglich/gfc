{
 "cells": [
  {
   "cell_type": "code",
   "execution_count": 1,
   "metadata": {},
   "outputs": [
    {
     "data": {
      "text/plain": [
       "'/Users/peterhaglich/Dropbox/Work/IARPA/HFC/gfc/gfc/src/notebooks'"
      ]
     },
     "execution_count": 1,
     "metadata": {},
     "output_type": "execute_result"
    }
   ],
   "source": [
    "pwd"
   ]
  },
  {
   "cell_type": "code",
   "execution_count": 2,
   "metadata": {
    "collapsed": true
   },
   "outputs": [],
   "source": [
    "%matplotlib inline"
   ]
  },
  {
   "cell_type": "code",
   "execution_count": 3,
   "metadata": {},
   "outputs": [
    {
     "name": "stdout",
     "output_type": "stream",
     "text": [
      "/Users/peterhaglich/Dropbox/Work/IARPA/HFC/gfc/gfc/src\n"
     ]
    }
   ],
   "source": [
    "cd .."
   ]
  },
  {
   "cell_type": "code",
   "execution_count": 92,
   "metadata": {
    "collapsed": true
   },
   "outputs": [],
   "source": [
    "import requests\n",
    "import html\n",
    "import time\n",
    "import datetime\n",
    "from dateutil.parser import parse\n",
    "import os\n",
    "import json\n",
    "from collections import Counter\n",
    "import nltk\n",
    "from nltk.corpus import stopwords\n",
    "from textblob import TextBlob\n",
    "import pandas as pd\n",
    "import re\n",
    "import matplotlib\n",
    "import matplotlib.pyplot as plt\n",
    "matplotlib.style.use(\"ggplot\")\n",
    "\n",
    "from gfcapi.gfcapi import GfcApi"
   ]
  },
  {
   "cell_type": "code",
   "execution_count": 30,
   "metadata": {},
   "outputs": [],
   "source": [
    "def process_rationale(rat_str):\n",
    "    _str = re.sub(\"&amp;#39;\", \"'\", rat_str)\n",
    "    _str = re.sub(\"&amp;quot;\", '\"', _str)\n",
    "    _str = re.sub(\"&lt;\",'<',_str)\n",
    "    _str = re.sub(\"&gt;\",'>',_str)\n",
    "    \n",
    "    return _str\n",
    "\n",
    "def clean_tweet(tweet):\n",
    "    '''\n",
    "    Utility function to clean tweet text by removing links, special characters\n",
    "    using simple regex statements.\n",
    "    '''\n",
    "    return ' '.join(re.sub(\"(@[A-Za-z0-9]+)|([^0-9A-Za-z \\t])|(\\w+:\\/\\/\\S+)\", \n",
    "                            \" \", tweet).split())"
   ]
  },
  {
   "cell_type": "code",
   "execution_count": 97,
   "metadata": {
    "collapsed": true
   },
   "outputs": [],
   "source": [
    "DATA_PATH = os.path.join(\"..\", \"data\", \"gfc_data\")\n",
    "HUMAN_PATH = os.path.join(DATA_PATH, \"Human_Forecasts\")\n",
    "DOC_PATH = os.path.join(\"..\", \"doc\", \"Forecaster_Sentiment\")"
   ]
  },
  {
   "cell_type": "code",
   "execution_count": 6,
   "metadata": {},
   "outputs": [
    {
     "data": {
      "text/plain": [
       "['Human_Forecasts_2018-03-07.json',\n",
       " 'Human_Forecasts_2018-03-08.json',\n",
       " 'Human_Forecasts_2018-03-09.json',\n",
       " 'Human_Forecasts_2018-03-10.json',\n",
       " 'Human_Forecasts_2018-03-11.json',\n",
       " 'Human_Forecasts_2018-03-12.json',\n",
       " 'Human_Forecasts_2018-03-13.json',\n",
       " 'Human_Forecasts_2018-03-14.json',\n",
       " 'Human_Forecasts_2018-03-15.json',\n",
       " 'Human_Forecasts_2018-03-16.json',\n",
       " 'Human_Forecasts_2018-03-17.json',\n",
       " 'Human_Forecasts_2018-03-18.json',\n",
       " 'Human_Forecasts_2018-03-19.json',\n",
       " 'Human_Forecasts_2018-03-20.json',\n",
       " 'Human_Forecasts_2018-03-21.json',\n",
       " 'Human_Forecasts_2018-03-22.json',\n",
       " 'Human_Forecasts_2018-03-23.json',\n",
       " 'Human_Forecasts_2018-03-24.json',\n",
       " 'Human_Forecasts_2018-03-25.json',\n",
       " 'Human_Forecasts_2018-03-26.json',\n",
       " 'Human_Forecasts_2018-03-27.json',\n",
       " 'Human_Forecasts_2018-03-28.json',\n",
       " 'Human_Forecasts_2018-03-29.json',\n",
       " 'Human_Forecasts_2018-03-30.json',\n",
       " 'Human_Forecasts_2018-03-31.json',\n",
       " 'Human_Forecasts_2018-04-01.json',\n",
       " 'Human_Forecasts_2018-04-02.json',\n",
       " 'Human_Forecasts_2018-04-03.json',\n",
       " 'Human_Forecasts_2018-04-04.json']"
      ]
     },
     "execution_count": 6,
     "metadata": {},
     "output_type": "execute_result"
    }
   ],
   "source": [
    "os.listdir(HUMAN_PATH)"
   ]
  },
  {
   "cell_type": "code",
   "execution_count": 115,
   "metadata": {
    "collapsed": true
   },
   "outputs": [],
   "source": [
    "casts = []\n",
    "for _filename in os.listdir(HUMAN_PATH):\n",
    "    _filepath = os.path.join(HUMAN_PATH, _filename)\n",
    "    with open(_filepath, \"r\", encoding=\"utf8\") as f:\n",
    "        _casts = json.load(f)\n",
    "        casts += _casts"
   ]
  },
  {
   "cell_type": "code",
   "execution_count": 116,
   "metadata": {},
   "outputs": [
    {
     "name": "stdout",
     "output_type": "stream",
     "text": [
      "There are 635 binary forecasts\n"
     ]
    }
   ],
   "source": [
    "casts = [c for c in casts if len(c[\"rationale\"]) > 0\n",
    "         and len(c[\"predictions\"]) == 1]\n",
    "print(\"There are {} binary forecasts\".format(len(casts)))"
   ]
  },
  {
   "cell_type": "code",
   "execution_count": 117,
   "metadata": {},
   "outputs": [
    {
     "data": {
      "text/plain": [
       "{'comment_id': 778,\n",
       " 'created_at': '2018-03-07T23:44:44.780Z',\n",
       " 'discover_question_id': 196,\n",
       " 'id': 778,\n",
       " 'membership_guid': 'df51f140de8c55317016434bee8f09feb2ebaee5',\n",
       " 'predictions': [{'answer_id': 1830,\n",
       "   'answer_name': 'Yes',\n",
       "   'confidence_level': None,\n",
       "   'created_at': '2018-03-07T23:44:44.790Z',\n",
       "   'filled_at': '2018-03-07T23:44:44.790Z',\n",
       "   'final_probability': 0.05,\n",
       "   'forecasted_probability': 0.08,\n",
       "   'id': 2434,\n",
       "   'made_after_correctness_known': False,\n",
       "   'membership_guid': 'df51f140de8c55317016434bee8f09feb2ebaee5',\n",
       "   'refunded_at': None,\n",
       "   'starting_probability': 0.05,\n",
       "   'type': 'Forecast::Prediction',\n",
       "   'updated_at': '2018-03-07T23:44:44.790Z'}],\n",
       " 'question_id': 625,\n",
       " 'question_name': \"Will the UN Security Council adopt more than one resolution concerning the Democratic People's Republic of Korea between 8 March 2018 and 31 May 2018?\",\n",
       " 'rationale': 'I have little confidence of the UN security council acting in unison for anything other than extreme situations.  Current indications on the Korean peninsula suggest that we are entering a period of improved engagement.  However, these things take time to play out and I would expect that there is little chance of a need for UN resolutions re DPRK other than as indications of goodwill during this period.  Consequently, very little chance (but not nil) of any resolutions',\n",
       " 'type': 'Forecast::OpinionPoolPredictionSet',\n",
       " 'updated_at': '2018-03-07T23:44:44.780Z'}"
      ]
     },
     "execution_count": 117,
     "metadata": {},
     "output_type": "execute_result"
    }
   ],
   "source": [
    "casts[0]"
   ]
  },
  {
   "cell_type": "code",
   "execution_count": 118,
   "metadata": {},
   "outputs": [],
   "source": [
    "casts = [{\"Question_ID\": c[\"discover_question_id\"],\n",
    "          \"Forecaster\": c[\"membership_guid\"],\n",
    "          \"Update_DTG\": c[\"updated_at\"],\n",
    "          \"Rationale\": c[\"rationale\"],\n",
    "          \"Forecast\": c[\"predictions\"][0][\"forecasted_probability\"]}\n",
    "        for c in casts]"
   ]
  },
  {
   "cell_type": "code",
   "execution_count": 119,
   "metadata": {},
   "outputs": [
    {
     "data": {
      "text/plain": [
       "{'Forecast': 0.08,\n",
       " 'Forecaster': 'df51f140de8c55317016434bee8f09feb2ebaee5',\n",
       " 'Question_ID': 196,\n",
       " 'Rationale': 'I have little confidence of the UN security council acting in unison for anything other than extreme situations.  Current indications on the Korean peninsula suggest that we are entering a period of improved engagement.  However, these things take time to play out and I would expect that there is little chance of a need for UN resolutions re DPRK other than as indications of goodwill during this period.  Consequently, very little chance (but not nil) of any resolutions',\n",
       " 'Update_DTG': '2018-03-07T23:44:44.780Z'}"
      ]
     },
     "execution_count": 119,
     "metadata": {},
     "output_type": "execute_result"
    }
   ],
   "source": [
    "casts[0]"
   ]
  },
  {
   "cell_type": "code",
   "execution_count": 120,
   "metadata": {
    "collapsed": true
   },
   "outputs": [],
   "source": [
    "casts_df = pd.DataFrame(casts)"
   ]
  },
  {
   "cell_type": "code",
   "execution_count": 121,
   "metadata": {
    "collapsed": true
   },
   "outputs": [],
   "source": [
    "casts_df.Rationale = casts_df.Rationale.apply(process_rationale)\n",
    "casts_df[\"Date\"] = casts_df.Update_DTG.apply(lambda x: parse(x).date())"
   ]
  },
  {
   "cell_type": "code",
   "execution_count": 122,
   "metadata": {},
   "outputs": [],
   "source": [
    "casts_df[\"Polarity\"] = casts_df.Rationale.apply(lambda x: TextBlob(x).sentiment.polarity)\n",
    "casts_df[\"Subjectivity\"] = casts_df.Rationale.apply(lambda x: TextBlob(x).sentiment.subjectivity)"
   ]
  },
  {
   "cell_type": "code",
   "execution_count": 123,
   "metadata": {},
   "outputs": [
    {
     "data": {
      "text/html": [
       "<div>\n",
       "<style>\n",
       "    .dataframe thead tr:only-child th {\n",
       "        text-align: right;\n",
       "    }\n",
       "\n",
       "    .dataframe thead th {\n",
       "        text-align: left;\n",
       "    }\n",
       "\n",
       "    .dataframe tbody tr th {\n",
       "        vertical-align: top;\n",
       "    }\n",
       "</style>\n",
       "<table border=\"1\" class=\"dataframe\">\n",
       "  <thead>\n",
       "    <tr style=\"text-align: right;\">\n",
       "      <th></th>\n",
       "      <th>Forecast</th>\n",
       "      <th>Forecaster</th>\n",
       "      <th>Question_ID</th>\n",
       "      <th>Rationale</th>\n",
       "      <th>Update_DTG</th>\n",
       "      <th>Date</th>\n",
       "      <th>Polarity</th>\n",
       "      <th>Subjectivity</th>\n",
       "    </tr>\n",
       "  </thead>\n",
       "  <tbody>\n",
       "    <tr>\n",
       "      <th>0</th>\n",
       "      <td>0.08</td>\n",
       "      <td>df51f140de8c55317016434bee8f09feb2ebaee5</td>\n",
       "      <td>196</td>\n",
       "      <td>I have little confidence of the UN security co...</td>\n",
       "      <td>2018-03-07T23:44:44.780Z</td>\n",
       "      <td>2018-03-07</td>\n",
       "      <td>-0.124219</td>\n",
       "      <td>0.475000</td>\n",
       "    </tr>\n",
       "    <tr>\n",
       "      <th>1</th>\n",
       "      <td>0.02</td>\n",
       "      <td>e94c4ee3acafc0558fcf538dfdb45571672a5f20</td>\n",
       "      <td>199</td>\n",
       "      <td>He's held power for 15 years and seems to have...</td>\n",
       "      <td>2018-03-07T23:40:32.896Z</td>\n",
       "      <td>2018-03-07</td>\n",
       "      <td>0.048988</td>\n",
       "      <td>0.398730</td>\n",
       "    </tr>\n",
       "    <tr>\n",
       "      <th>2</th>\n",
       "      <td>0.03</td>\n",
       "      <td>e94c4ee3acafc0558fcf538dfdb45571672a5f20</td>\n",
       "      <td>196</td>\n",
       "      <td>Nonzero because weird things can happen in a d...</td>\n",
       "      <td>2018-03-07T23:34:09.201Z</td>\n",
       "      <td>2018-03-07</td>\n",
       "      <td>0.000000</td>\n",
       "      <td>0.500000</td>\n",
       "    </tr>\n",
       "    <tr>\n",
       "      <th>3</th>\n",
       "      <td>0.05</td>\n",
       "      <td>2f0a8550371e08313ec0fb9892ceb3ff648b0441</td>\n",
       "      <td>196</td>\n",
       "      <td>Recent \"diplomatic offensive\" by DPRK suggests...</td>\n",
       "      <td>2018-03-07T23:33:58.781Z</td>\n",
       "      <td>2018-03-07</td>\n",
       "      <td>-0.052381</td>\n",
       "      <td>0.202381</td>\n",
       "    </tr>\n",
       "    <tr>\n",
       "      <th>4</th>\n",
       "      <td>0.10</td>\n",
       "      <td>aa2ef46931df07b0fec6f44ef2c233636b8b0e4b</td>\n",
       "      <td>201</td>\n",
       "      <td>The possibility of military response is very h...</td>\n",
       "      <td>2018-03-07T23:19:55.485Z</td>\n",
       "      <td>2018-03-07</td>\n",
       "      <td>0.122667</td>\n",
       "      <td>0.397333</td>\n",
       "    </tr>\n",
       "  </tbody>\n",
       "</table>\n",
       "</div>"
      ],
      "text/plain": [
       "   Forecast                                Forecaster  Question_ID  \\\n",
       "0      0.08  df51f140de8c55317016434bee8f09feb2ebaee5          196   \n",
       "1      0.02  e94c4ee3acafc0558fcf538dfdb45571672a5f20          199   \n",
       "2      0.03  e94c4ee3acafc0558fcf538dfdb45571672a5f20          196   \n",
       "3      0.05  2f0a8550371e08313ec0fb9892ceb3ff648b0441          196   \n",
       "4      0.10  aa2ef46931df07b0fec6f44ef2c233636b8b0e4b          201   \n",
       "\n",
       "                                           Rationale  \\\n",
       "0  I have little confidence of the UN security co...   \n",
       "1  He's held power for 15 years and seems to have...   \n",
       "2  Nonzero because weird things can happen in a d...   \n",
       "3  Recent \"diplomatic offensive\" by DPRK suggests...   \n",
       "4  The possibility of military response is very h...   \n",
       "\n",
       "                 Update_DTG        Date  Polarity  Subjectivity  \n",
       "0  2018-03-07T23:44:44.780Z  2018-03-07 -0.124219      0.475000  \n",
       "1  2018-03-07T23:40:32.896Z  2018-03-07  0.048988      0.398730  \n",
       "2  2018-03-07T23:34:09.201Z  2018-03-07  0.000000      0.500000  \n",
       "3  2018-03-07T23:33:58.781Z  2018-03-07 -0.052381      0.202381  \n",
       "4  2018-03-07T23:19:55.485Z  2018-03-07  0.122667      0.397333  "
      ]
     },
     "execution_count": 123,
     "metadata": {},
     "output_type": "execute_result"
    }
   ],
   "source": [
    "casts_df.head()"
   ]
  },
  {
   "cell_type": "code",
   "execution_count": 128,
   "metadata": {},
   "outputs": [
    {
     "name": "stdout",
     "output_type": "stream",
     "text": [
      "0.02 The Moroccan government doesn't even recognize the legitimacy of the Polisario Front, good luck 0.7 0.6\n",
      "1.0 Populism is popular these days. Will revise. 0.6 0.9\n",
      "0.75 Assuming a free and fair election, they'll pick up one or two somewhere. 0.55 0.85\n",
      "0.75 Assuming a free and fair election, they'll pick up one or two somewhere. 0.55 0.85\n",
      "0.01 I'm feeling lucky. Erdogan has a good grip on power. Health would appear the likeliest reason for a Yes in this time frame.   0.516666666667 0.716666666667\n",
      "0.05 President Erdogarn's position within Turkey is stable, and he has already taken care of it. The greatest threat to its stability would come from external factors (situation in Syria) 0.5 0.55\n",
      "0.05 Going with the wisdom of this crowd - consensus is 5%.\n",
      "Will research more 0.5 0.5\n",
      "0.0 If I had any money, I'd bet that the Trump-Kim love-in will be postponed or cancelled or at most will come to nothing, but the Security Council won't do anything in time to matter for this question. 0.5 0.5\n",
      "0.02 He consolidates his power more every day. 0.5 0.5\n",
      "0.0 The ratings outfits have become much more cautious, and Iran has become much more risky to predict anything about.  They won't be moving on this any time soon. 0.5 0.5\n",
      "0.0 Divergent interests on the UNSC will preclude any rapid development of more than one resolution - if even one is adopted. 0.5 0.5\n",
      "0.05 Going with the wisdom of this crowd - consensus is 5%.\n",
      "Will research more 0.5 0.5\n",
      "0.02 There's always a chance, however the NK government has been one of if not the most stable government since 1952  0.5 0.5\n",
      "0.02 He consolidates his power more every day. 0.5 0.5\n",
      "0.0 Oh no! Not this daft question again...\r\n",
      "Why not ask actually relevant Russia-related questions? Pick one:\r\n",
      "Voter turnout for Putin's reelection\r\n",
      "Naftogaz/ Gazprom dispute\r\n",
      "Number of protesters in Moscow post-March 18th/ Cabinet changes\r\n",
      "Looking at spy exchanges would be more entertaining than waiting for Russia to attack a NATO member. Please... 0.466666666667 0.7\n",
      "1.0 The Warlords in Africa and I kind of it's in the Asia and going to start pulling off more terrorist attacks killing more people trying to plan more attacks for the western 0.42 0.48\n",
      "0.05 I could find nothing supporting FARC winning even 1 seat 0.375 0.5\n",
      "0.05 push towards continental Europe consensus with BREXIT now 1 year away and Moscow reacting after the Salisbury incident. Don't see significant moves within EU 0.375 0.875\n",
      "0.03 Like him or not (and I don’t) he has played a wonderful hand over the years - although closer than realized to losing it all with the “coup”. 3% based on,y on his health and very slim chance of assassination (no more than many leaders). 0.3625 0.575\n",
      "0.2 Yes based on there own willingness to work within there own and other people’s favor  0.358333333333 0.791666666667\n"
     ]
    }
   ],
   "source": [
    "for i in range(20):\n",
    "    _cast = casts_df.sort_values(\"Polarity\", ascending=False).iloc[i]\n",
    "    print(_cast[\"Forecast\"], _cast[\"Rationale\"], _cast[\"Polarity\"], _cast[\"Subjectivity\"])\n",
    "    "
   ]
  },
  {
   "cell_type": "code",
   "execution_count": 129,
   "metadata": {},
   "outputs": [
    {
     "data": {
      "text/html": [
       "<div>\n",
       "<style>\n",
       "    .dataframe thead tr:only-child th {\n",
       "        text-align: right;\n",
       "    }\n",
       "\n",
       "    .dataframe thead th {\n",
       "        text-align: left;\n",
       "    }\n",
       "\n",
       "    .dataframe tbody tr th {\n",
       "        vertical-align: top;\n",
       "    }\n",
       "</style>\n",
       "<table border=\"1\" class=\"dataframe\">\n",
       "  <thead>\n",
       "    <tr style=\"text-align: right;\">\n",
       "      <th></th>\n",
       "      <th>Forecast</th>\n",
       "      <th>Polarity</th>\n",
       "      <th>Subjectivity</th>\n",
       "    </tr>\n",
       "    <tr>\n",
       "      <th>Date</th>\n",
       "      <th></th>\n",
       "      <th></th>\n",
       "      <th></th>\n",
       "    </tr>\n",
       "  </thead>\n",
       "  <tbody>\n",
       "    <tr>\n",
       "      <th>2018-03-07</th>\n",
       "      <td>0.052857</td>\n",
       "      <td>-0.045166</td>\n",
       "      <td>0.414172</td>\n",
       "    </tr>\n",
       "    <tr>\n",
       "      <th>2018-03-13</th>\n",
       "      <td>0.145536</td>\n",
       "      <td>0.060822</td>\n",
       "      <td>0.405750</td>\n",
       "    </tr>\n",
       "    <tr>\n",
       "      <th>2018-03-14</th>\n",
       "      <td>0.050000</td>\n",
       "      <td>0.066667</td>\n",
       "      <td>0.366667</td>\n",
       "    </tr>\n",
       "    <tr>\n",
       "      <th>2018-03-15</th>\n",
       "      <td>0.300000</td>\n",
       "      <td>-0.002273</td>\n",
       "      <td>0.197879</td>\n",
       "    </tr>\n",
       "    <tr>\n",
       "      <th>2018-03-16</th>\n",
       "      <td>0.050000</td>\n",
       "      <td>0.000000</td>\n",
       "      <td>0.000000</td>\n",
       "    </tr>\n",
       "  </tbody>\n",
       "</table>\n",
       "</div>"
      ],
      "text/plain": [
       "            Forecast  Polarity  Subjectivity\n",
       "Date                                        \n",
       "2018-03-07  0.052857 -0.045166      0.414172\n",
       "2018-03-13  0.145536  0.060822      0.405750\n",
       "2018-03-14  0.050000  0.066667      0.366667\n",
       "2018-03-15  0.300000 -0.002273      0.197879\n",
       "2018-03-16  0.050000  0.000000      0.000000"
      ]
     },
     "execution_count": 129,
     "metadata": {},
     "output_type": "execute_result"
    }
   ],
   "source": [
    "q_df = casts_df[casts_df.Question_ID == 196]\n",
    "q_polarity = q_df.groupby(\"Date\").apply(lambda x: (x.Polarity.mean()))\n",
    "q_subjectivity = q_df.groupby(\"Date\").apply(lambda x: x.Subjectivity.mean())\n",
    "q_probability = q_df.groupby(\"Date\").apply(lambda x: x.Forecast.mean())\n",
    "q_df = pd.DataFrame({\"Polarity\": q_polarity, \"Subjectivity\": q_subjectivity,\n",
    "                     \"Forecast\": q_probability})\n",
    "q_df.head()"
   ]
  },
  {
   "cell_type": "code",
   "execution_count": 130,
   "metadata": {},
   "outputs": [
    {
     "data": {
      "text/plain": [
       "<matplotlib.axes._subplots.AxesSubplot at 0x124cde2b0>"
      ]
     },
     "execution_count": 130,
     "metadata": {},
     "output_type": "execute_result"
    },
    {
     "data": {
      "image/png": "[encoded data removed]",
      "text/plain": [
       "<matplotlib.figure.Figure at 0x12446e208>"
      ]
     },
     "metadata": {},
     "output_type": "display_data"
    }
   ],
   "source": [
    "q_df.plot()"
   ]
  },
  {
   "cell_type": "code",
   "execution_count": 131,
   "metadata": {},
   "outputs": [
    {
     "data": {
      "text/html": [
       "<div>\n",
       "<style>\n",
       "    .dataframe thead tr:only-child th {\n",
       "        text-align: right;\n",
       "    }\n",
       "\n",
       "    .dataframe thead th {\n",
       "        text-align: left;\n",
       "    }\n",
       "\n",
       "    .dataframe tbody tr th {\n",
       "        vertical-align: top;\n",
       "    }\n",
       "</style>\n",
       "<table border=\"1\" class=\"dataframe\">\n",
       "  <thead>\n",
       "    <tr style=\"text-align: right;\">\n",
       "      <th></th>\n",
       "      <th>Forecast</th>\n",
       "      <th>Polarity</th>\n",
       "      <th>Subjectivity</th>\n",
       "    </tr>\n",
       "  </thead>\n",
       "  <tbody>\n",
       "    <tr>\n",
       "      <th>Forecast</th>\n",
       "      <td>1.000000</td>\n",
       "      <td>-0.123299</td>\n",
       "      <td>0.006195</td>\n",
       "    </tr>\n",
       "    <tr>\n",
       "      <th>Polarity</th>\n",
       "      <td>-0.123299</td>\n",
       "      <td>1.000000</td>\n",
       "      <td>-0.342077</td>\n",
       "    </tr>\n",
       "    <tr>\n",
       "      <th>Subjectivity</th>\n",
       "      <td>0.006195</td>\n",
       "      <td>-0.342077</td>\n",
       "      <td>1.000000</td>\n",
       "    </tr>\n",
       "  </tbody>\n",
       "</table>\n",
       "</div>"
      ],
      "text/plain": [
       "              Forecast  Polarity  Subjectivity\n",
       "Forecast      1.000000 -0.123299      0.006195\n",
       "Polarity     -0.123299  1.000000     -0.342077\n",
       "Subjectivity  0.006195 -0.342077      1.000000"
      ]
     },
     "execution_count": 131,
     "metadata": {},
     "output_type": "execute_result"
    }
   ],
   "source": [
    "q_df.corr()"
   ]
  },
  {
   "cell_type": "code",
   "execution_count": 132,
   "metadata": {},
   "outputs": [
    {
     "data": {
      "image/png": "[encoded data removed]",
      "text/plain": [
       "<matplotlib.figure.Figure at 0x124659b38>"
      ]
     },
     "metadata": {},
     "output_type": "display_data"
    }
   ],
   "source": [
    "fig, ax = plt.subplots(1,1, figsize=(8,8))\n",
    "casts_df.plot(kind=\"scatter\", y=\"Forecast\", x=\"Polarity\", ax=ax)\n",
    "plt.title(\"Forecast Probability vs Rationale Polarity\")\n",
    "_path = os.path.join(DOC_PATH, \"Forecaster Probability vs Rationale Polarity.png\")\n",
    "fig.savefig(_path)"
   ]
  },
  {
   "cell_type": "code",
   "execution_count": 133,
   "metadata": {},
   "outputs": [
    {
     "data": {
      "text/html": [
       "<div>\n",
       "<style>\n",
       "    .dataframe thead tr:only-child th {\n",
       "        text-align: right;\n",
       "    }\n",
       "\n",
       "    .dataframe thead th {\n",
       "        text-align: left;\n",
       "    }\n",
       "\n",
       "    .dataframe tbody tr th {\n",
       "        vertical-align: top;\n",
       "    }\n",
       "</style>\n",
       "<table border=\"1\" class=\"dataframe\">\n",
       "  <thead>\n",
       "    <tr style=\"text-align: right;\">\n",
       "      <th></th>\n",
       "      <th>Forecast</th>\n",
       "      <th>Polarity</th>\n",
       "    </tr>\n",
       "  </thead>\n",
       "  <tbody>\n",
       "    <tr>\n",
       "      <th>Forecast</th>\n",
       "      <td>1.00000</td>\n",
       "      <td>0.07052</td>\n",
       "    </tr>\n",
       "    <tr>\n",
       "      <th>Polarity</th>\n",
       "      <td>0.07052</td>\n",
       "      <td>1.00000</td>\n",
       "    </tr>\n",
       "  </tbody>\n",
       "</table>\n",
       "</div>"
      ],
      "text/plain": [
       "          Forecast  Polarity\n",
       "Forecast   1.00000   0.07052\n",
       "Polarity   0.07052   1.00000"
      ]
     },
     "execution_count": 133,
     "metadata": {},
     "output_type": "execute_result"
    }
   ],
   "source": [
    "_corr = casts_df[[\"Forecast\", \"Polarity\"]].corr()\n",
    "_corr"
   ]
  },
  {
   "cell_type": "code",
   "execution_count": 134,
   "metadata": {},
   "outputs": [
    {
     "data": {
      "text/plain": [
       "0.070519855464271086"
      ]
     },
     "execution_count": 134,
     "metadata": {},
     "output_type": "execute_result"
    }
   ],
   "source": [
    "_corr.loc[\"Forecast\"][\"Polarity\"]"
   ]
  },
  {
   "cell_type": "code",
   "execution_count": 135,
   "metadata": {
    "collapsed": true
   },
   "outputs": [],
   "source": [
    "def forecast_polarity_corr(_casts_df):\n",
    "    _ifps = _casts_df.Question_ID.unique()\n",
    "    corr_dict = {ifp: casts_df[casts_df.Question_ID == ifp][[\"Forecast\", \"Polarity\"]].corr()\n",
    "                 for ifp in _ifps}\n",
    "    corr_ser = pd.Series({ifp: corr_dict[ifp].loc[\"Forecast\"][\"Polarity\"]\n",
    "                          for ifp in _ifps})\n",
    "    return corr_ser"
   ]
  },
  {
   "cell_type": "code",
   "execution_count": 136,
   "metadata": {},
   "outputs": [
    {
     "data": {
      "image/png": "[encoded data removed]",
      "text/plain": [
       "<matplotlib.figure.Figure at 0x11f3dd9b0>"
      ]
     },
     "metadata": {},
     "output_type": "display_data"
    }
   ],
   "source": [
    "fig, ax = plt.subplots(1,1, figsize=(8,5))\n",
    "forecast_vs_polarity_ser = forecast_polarity_corr(casts_df)\n",
    "forecast_vs_polarity_ser.plot(kind=\"density\", xlim=(-1, 1), ax=ax)\n",
    "plt.title(\"Forecast vs Rationale Polarity Correlation\");\n",
    "_path = os.path.join(DOC_PATH, \"Forecaster Probability vs Rationale Correlation.png\")\n",
    "ax.set_xlabel(\"Correlation Between Forecast and Rationale Sentiment\")\n",
    "fig.savefig(_path)"
   ]
  },
  {
   "cell_type": "code",
   "execution_count": 137,
   "metadata": {},
   "outputs": [
    {
     "data": {
      "text/plain": [
       "<matplotlib.axes._subplots.AxesSubplot at 0x124b77cc0>"
      ]
     },
     "execution_count": 137,
     "metadata": {},
     "output_type": "execute_result"
    },
    {
     "data": {
      "image/png": "[encoded data removed]",
      "text/plain": [
       "<matplotlib.figure.Figure at 0x11f7ae4a8>"
      ]
     },
     "metadata": {},
     "output_type": "display_data"
    }
   ],
   "source": [
    "forecast_vs_polarity_ser.plot(kind=\"hist\", xlim=(-1, 1), bins=30)"
   ]
  },
  {
   "cell_type": "code",
   "execution_count": 141,
   "metadata": {},
   "outputs": [
    {
     "data": {
      "text/plain": [
       "249    1.000000\n",
       "259    0.991241\n",
       "219    0.557267\n",
       "198    0.390542\n",
       "232    0.344560\n",
       "197    0.333695\n",
       "202    0.270426\n",
       "214    0.236312\n",
       "179    0.213389\n",
       "215    0.057748\n",
       "258    0.005721\n",
       "200   -0.013678\n",
       "201   -0.021668\n",
       "196   -0.033914\n",
       "199   -0.041904\n",
       "229   -0.055757\n",
       "241   -0.060106\n",
       "213   -0.070525\n",
       "203   -0.090689\n",
       "254   -0.097866\n",
       "211   -0.145075\n",
       "248   -0.335891\n",
       "210   -0.367695\n",
       "245   -0.453921\n",
       "251   -0.981874\n",
       "257         NaN\n",
       "dtype: float64"
      ]
     },
     "execution_count": 141,
     "metadata": {},
     "output_type": "execute_result"
    }
   ],
   "source": [
    "forecast_vs_polarity_ser.sort_values(ascending=False)"
   ]
  },
  {
   "cell_type": "code",
   "execution_count": 142,
   "metadata": {},
   "outputs": [
    {
     "data": {
      "text/html": [
       "<div>\n",
       "<style>\n",
       "    .dataframe thead tr:only-child th {\n",
       "        text-align: right;\n",
       "    }\n",
       "\n",
       "    .dataframe thead th {\n",
       "        text-align: left;\n",
       "    }\n",
       "\n",
       "    .dataframe tbody tr th {\n",
       "        vertical-align: top;\n",
       "    }\n",
       "</style>\n",
       "<table border=\"1\" class=\"dataframe\">\n",
       "  <thead>\n",
       "    <tr style=\"text-align: right;\">\n",
       "      <th></th>\n",
       "      <th>Forecast</th>\n",
       "      <th>Forecaster</th>\n",
       "      <th>Question_ID</th>\n",
       "      <th>Rationale</th>\n",
       "      <th>Update_DTG</th>\n",
       "      <th>Date</th>\n",
       "      <th>Polarity</th>\n",
       "      <th>Subjectivity</th>\n",
       "    </tr>\n",
       "  </thead>\n",
       "  <tbody>\n",
       "    <tr>\n",
       "      <th>610</th>\n",
       "      <td>0.00</td>\n",
       "      <td>81015b8dec674104886e263766fafcbf9bfa5e63</td>\n",
       "      <td>259</td>\n",
       "      <td>The Macedonian prime minister, Zoran Zaev, cla...</td>\n",
       "      <td>2018-04-04T20:15:53.464Z</td>\n",
       "      <td>2018-04-04</td>\n",
       "      <td>-0.125</td>\n",
       "      <td>0.125</td>\n",
       "    </tr>\n",
       "    <tr>\n",
       "      <th>617</th>\n",
       "      <td>0.01</td>\n",
       "      <td>0b4cc2230cba572ddd1aeadbd6a29e71319a1793</td>\n",
       "      <td>259</td>\n",
       "      <td>Greece won’t accept “Upper Macedonia” and Mace...</td>\n",
       "      <td>2018-04-04T20:00:55.094Z</td>\n",
       "      <td>2018-04-04</td>\n",
       "      <td>0.000</td>\n",
       "      <td>0.000</td>\n",
       "    </tr>\n",
       "    <tr>\n",
       "      <th>631</th>\n",
       "      <td>0.02</td>\n",
       "      <td>1671c9aff754c9fa5ccf38d2e68c9581d4a62598</td>\n",
       "      <td>259</td>\n",
       "      <td>If they even started now it would take a whole...</td>\n",
       "      <td>2018-04-04T19:01:13.411Z</td>\n",
       "      <td>2018-04-04</td>\n",
       "      <td>0.200</td>\n",
       "      <td>0.400</td>\n",
       "    </tr>\n",
       "  </tbody>\n",
       "</table>\n",
       "</div>"
      ],
      "text/plain": [
       "     Forecast                                Forecaster  Question_ID  \\\n",
       "610      0.00  81015b8dec674104886e263766fafcbf9bfa5e63          259   \n",
       "617      0.01  0b4cc2230cba572ddd1aeadbd6a29e71319a1793          259   \n",
       "631      0.02  1671c9aff754c9fa5ccf38d2e68c9581d4a62598          259   \n",
       "\n",
       "                                             Rationale  \\\n",
       "610  The Macedonian prime minister, Zoran Zaev, cla...   \n",
       "617  Greece won’t accept “Upper Macedonia” and Mace...   \n",
       "631  If they even started now it would take a whole...   \n",
       "\n",
       "                   Update_DTG        Date  Polarity  Subjectivity  \n",
       "610  2018-04-04T20:15:53.464Z  2018-04-04    -0.125         0.125  \n",
       "617  2018-04-04T20:00:55.094Z  2018-04-04     0.000         0.000  \n",
       "631  2018-04-04T19:01:13.411Z  2018-04-04     0.200         0.400  "
      ]
     },
     "execution_count": 142,
     "metadata": {},
     "output_type": "execute_result"
    }
   ],
   "source": [
    "casts_df[casts_df.Question_ID==259].head()"
   ]
  },
  {
   "cell_type": "code",
   "execution_count": null,
   "metadata": {
    "collapsed": true
   },
   "outputs": [],
   "source": []
  }
 ],
 "metadata": {
  "anaconda-cloud": {},
  "kernelspec": {
   "display_name": "Python 3",
   "language": "python",
   "name": "python3"
  },
  "language_info": {
   "codemirror_mode": {
    "name": "ipython",
    "version": 3
   },
   "file_extension": ".py",
   "mimetype": "text/x-python",
   "name": "python",
   "nbconvert_exporter": "python",
   "pygments_lexer": "ipython3",
   "version": "3.5.2"
  }
 },
 "nbformat": 4,
 "nbformat_minor": 1
}
