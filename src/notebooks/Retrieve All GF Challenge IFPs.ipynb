{
 "cells": [
  {
   "cell_type": "code",
   "execution_count": 1,
   "metadata": {},
   "outputs": [
    {
     "name": "stdout",
     "output_type": "stream",
     "text": [
      "/Users/peterhaglich/Dropbox/Work/IARPA/HFC/gfc/gfc/src\n"
     ]
    }
   ],
   "source": [
    "cd .."
   ]
  },
  {
   "cell_type": "code",
   "execution_count": 2,
   "metadata": {
    "collapsed": true
   },
   "outputs": [],
   "source": [
    "import requests\n",
    "import time\n",
    "import datetime\n",
    "from dateutil.parser import parse\n",
    "import os\n",
    "import json\n",
    "\n",
    "from collections import Counter\n",
    "from gfcapi.gfcapi import GfcApi"
   ]
  },
  {
   "cell_type": "code",
   "execution_count": 3,
   "metadata": {},
   "outputs": [
    {
     "name": "stdout",
     "output_type": "stream",
     "text": [
      "a0a4d8f1a34501875101650ee2d60a2dc9dd27c38f0e1262a57ce7e1af1743a1\n"
     ]
    }
   ],
   "source": [
    "DATA_PATH = os.path.join(\"..\", \"data\", \"gfc2_data\")\n",
    "IFP_DATA_PATH = os.path.join(DATA_PATH, \"IFPs\")\n",
    "IFP_CORPUS_PATH = os.path.join(DATA_PATH, \"IFP Corpus\")\n",
    "AUTH_PATH = os.path.join(\"resources\", \"auth.json\")\n",
    "with open(AUTH_PATH, \"r\") as f:\n",
    "    auth_dict = json.load(f)\n",
    "    secret_token = auth_dict['gfc_token']\n",
    "    print(secret_token)\n",
    "SERVER = 'https://api.iarpagfchallenge.com'\n",
    "Q_ENDPOINT = '/api/v1/questions'\n",
    "url = SERVER + '/api/v1/questions' # The endpoint to retrieve questions\n",
    "headers = {'Authorization':'Bearer ' + secret_token}\n",
    "params = {} # More to come on this in a moment\n",
    "instance='production'\n",
    "gf=GfcApi(token=secret_token,server=SERVER,verbose=False)\n",
    "RCT_START = \"2018-03-07\""
   ]
  },
  {
   "cell_type": "markdown",
   "metadata": {},
   "source": [
    "Once we create an instance of the `GfcApi` class, we retrieve Individual Forecasting Problems (IFPs). We could limit our queries of IFPs based on date of creation or update (useful for finding clarifications).  We can also limit our query to active (or closed) questions."
   ]
  },
  {
   "cell_type": "code",
   "execution_count": 4,
   "metadata": {
    "collapsed": true
   },
   "outputs": [],
   "source": [
    "params = {\"created_after\": parse(RCT_START)}"
   ]
  },
  {
   "cell_type": "code",
   "execution_count": 5,
   "metadata": {},
   "outputs": [
    {
     "name": "stdout",
     "output_type": "stream",
     "text": [
      "There are 13 pages\n",
      "There are 122 IFPs in the GF Challenge\n"
     ]
    }
   ],
   "source": [
    "all_ifps = gf.get_questions(status=\"all\", training_data=False, **params)\n",
    "print(\"There are {} IFPs in the GF Challenge\".format(len(all_ifps)))"
   ]
  },
  {
   "cell_type": "code",
   "execution_count": 6,
   "metadata": {
    "collapsed": true
   },
   "outputs": [],
   "source": [
    "today = time.strftime(\"%Y-%m-%d\")\n",
    "_filename = \"All IFP Snapshot {}.json\".format(today)\n",
    "_path = os.path.join(DATA_PATH, \"IFPs\", _filename)\n",
    "with open(_path, \"w\") as f:\n",
    "    json.dump(all_ifps, f, ensure_ascii=False, sort_keys=True, indent=2)"
   ]
  },
  {
   "cell_type": "code",
   "execution_count": 7,
   "metadata": {},
   "outputs": [
    {
     "data": {
      "text/plain": [
       "Counter({False: 29, True: 93})"
      ]
     },
     "execution_count": 7,
     "metadata": {},
     "output_type": "execute_result"
    }
   ],
   "source": [
    "Counter([x[\"active?\"] for x in all_ifps])"
   ]
  },
  {
   "cell_type": "code",
   "execution_count": 8,
   "metadata": {},
   "outputs": [
    {
     "data": {
      "text/plain": [
       "['Before 30 November 2019, will the Ukrainian government lift any cargo restrictions related to the \"Donbas blockade\"?',\n",
       " \"Before 1 November 2019, will Belgium's new federal government be sworn in?\",\n",
       " 'Between 27 June 2019 and 30 September 2019, will the parliament of Moldova be dissolved?\\r\\n',\n",
       " 'Will the Government of Canada issue a travel advisory of \"Avoid non-essential travel\" or \"Avoid all travel\" for Kazakhstan between 27 June 2019 and 23 October 2019?',\n",
       " 'How many cases of measles will the European Centre for Disease Prevention and Control record in Italy for October 2019?',\n",
       " \"Will Hong Kong's Chief Executive Carrie Lam experience a significant leadership disruption between 27 June 2019 and 29 November 2019?\",\n",
       " 'Will there be a significant day-over-day increase in worldwide search interest in the term \"extremist\" reported by Google Trends between 13 October 2019 and 13 November 2019?',\n",
       " 'How many positive influenza virus detections will FluNet record for Nepal between 29 July 2019 and 8 September 2019 (epidemiological weeks 31-36, inclusive)?',\n",
       " 'Will ACLED record any civilian fatalities in Angola in September 2019?',\n",
       " 'How much crude oil will Saudi Arabia produce in September 2019?',\n",
       " 'How many major power outages will occur between 27 June 2019 and 28 August 2019 as reported by Wikipedia?',\n",
       " 'What will be the Korean Central News Agency (KCNA) Threat Index on 27 November 2019?',\n",
       " 'How many times will the Beijing US Embassy monitoring station in Beijing, China record a PM2.5 pollutant reading over 150 between 1 August 2019 and 31 August 2019?',\n",
       " \"How many 'hacking or malware (HACK)' data breaches will Privacy Rights Clearinghouse record in August 2019?\",\n",
       " 'What will be the global temperature anomaly in degrees Celsius in August 2019?\\xa0',\n",
       " \"Which party will win the most seats in Portugal's next legislative election?\",\n",
       " 'How many earthquakes of magnitude 4.5 or stronger will occur worldwide between 1 September 2019 and 30 September 2019?',\n",
       " 'How many United Nations Security Council Resolutions concerning Syria will be vetoed by Russia between 27 June 2019 and 27 November 2019?',\n",
       " 'Will the Aviation Safety Network record a hijacking or criminal occurrence between 1 October 2019 and 31 October 2019?',\n",
       " 'Between 20 June 2019 and 29 November 2019, will any of the Chinese social media platforms WeChat, Weibo, and/or QQ experience a service interruption lasting two or more hours?',\n",
       " 'What will be the daily closing spot price of Brent crude oil (USD per barrel) on 31 July 2019, according to the U.S. EIA?',\n",
       " \"What will be the daily closing price of Germany's DAX index on 28 June 2019?\",\n",
       " \"What will be the daily closing price of Japan's Nikkei 225 index on 31 October 2019?\",\n",
       " \"Will Czech Republic's Prime Minister Andrej Babiš experience a significant leadership disruption between 20 June 2019 and 22 August 2019?\",\n",
       " 'What will be the FAO Vegetable Oil Price Index in June 2019?',\n",
       " 'Will Oman be removed from the EU list of non-cooperative tax jurisdictions between 20 June 2019 and 31 October 2019?',\n",
       " \"Which party will win the most seats in Israel's legislative election?\",\n",
       " 'How many riots will ACLED record in Sudan between 1 July 2019 and 31 August 2019?\\r\\n',\n",
       " \"How many seats will New Democracy win in Greece's next legislative election?\",\n",
       " 'What will be the short-term interest rate for Russia (RUS) in July 2019?',\n",
       " 'Between 20 June 2019 and 29 November 2019, how many countries among Saudi Arabia, the UAE, Bahrain, and Egypt will reopen their airspace to Qatar Airways?',\n",
       " 'Will the Basel Institute of Governance indicate that Russia has a lower, unchanged, or higher risk of money laundering / terrorist financing in 2019 compared to 2018?\\xa0',\n",
       " 'How many battle deaths will ACLED record in Cameroon between 20 June 2019 and 14 July 2019?',\n",
       " 'Between 20 June 2019 and 31 August 2019, will Israel and Lebanon meet for official talks to address their land and/or maritime border disputes?',\n",
       " 'Will North Korea launch a medium-range or longer ballistic missile between 20 June 2019 and 30 September 2019?',\n",
       " 'Will there be a 10% decrease in the daily closing price of the EURONEXT N100 over any interval of five or fewer business days between 13 June 2019 and 29 November 2019?',\n",
       " 'Who will be Prime Minister of the United Kingdom on 30 July 2019?',\n",
       " \"Will Iran's President Hassan Rouhani experience a significant leadership disruption between 13 June 2019 and 5 October 2019?\",\n",
       " 'Will the European Union file a\\xa0World Trade Organization\\xa0dispute against any country/territory between 13 June 2019 and 29 November 2019?',\n",
       " 'What will be the monthly period-over-period change in the consumer price index (CPI) for China, P.R.: Mainland in June 2019?',\n",
       " 'Will the Basel Institute of Governance indicate that Saudi Arabia has a lower, unchanged, or higher risk of money laundering / terrorist financing in 2019 compared to 2018?\\xa0',\n",
       " 'Will the Aviation Safety Network record a hijacking or criminal occurrence between 22 June 2019 and 22 July 2019?',\n",
       " \"Will Ukraine's President Volodymyr Zelensky experience a significant leadership disruption between 13 June 2019 and 29 November 2019?\",\n",
       " \"Before 1 July 2019, will the European Commission (EC) extend Switzerland's stock market equivalence status?\",\n",
       " 'Between 13 June 2019 and 29 July 2019, will budget protests in Lebanon result in a fatality?',\n",
       " \"What will be the disapproval rate for Japan's cabinet in NHK's monthly survey in August 2019?\",\n",
       " 'What will be the status of the \"Violence in the Democratic Republic of Congo\" conflict on 7 November 2019 according to the Council on Foreign Relations\\' Global Conflict Tracker?',\n",
       " 'Will the Republic of Cyprus execute or be targeted in a national military attack between 13 June 2019 and 30 July 2019?',\n",
       " 'What will be the unemployment rate for Croatia in August 2019?',\n",
       " \"Will the Government of Canada issue a 'Level 2, 3, or 4' health notice for Mexico between 13 June 2019 and 31 August 2019? \",\n",
       " 'Between 13 June 2019 and 29 November 2019, will the government of a Gulf Cooperation Council or G7 member formally accuse Iran of a lethal cyberattack?',\n",
       " 'Will the Falkland Islands’ referendum to replace the two existing electoral constituencies with a single constituency for the whole of the Islands pass? ',\n",
       " 'Will ACLED record any civilian fatalities in Tunisia between 7 August 2019 and 7 September 2019?',\n",
       " 'Between 6 June 2019 and 29 November 2019, will the Qatari government announce an official ban on the issuance of tourist visas for Egyptians?\\r\\n',\n",
       " 'How many kilograms of cocaine will be seized in England and Wales by police forces and the Border Force during the financial year ending 2019 (April 2018 – March 2019)?',\n",
       " 'Between 6 June 2019 and 30 June 2019, will anti-government protests in Albania result in a fatality?',\n",
       " 'Before 30 July 2019, will Kosovo reduce or revoke the customs tariffs imposed in late 2018 on Serbian and Bosnian goods?\\r\\n',\n",
       " 'Will the International Crisis Group report an unchanged, deteriorated, or improved situation for Iran in July 2019?',\n",
       " 'What will be the closing value of the Philippine peso to one U.S. Dollar exchange rate on 17 July 2019?',\n",
       " 'Before 1 July 2019, will the FAO report 1,200,000 or more pigs have been culled in China to thwart the spread of African Swine Fever?',\n",
       " 'Before 30 November 2019, will the European Council decide to open accession negotiations with Albania and/or North Macedonia?',\n",
       " 'How many Meetings will the Myanmar Peace Monitor record for August 2019?',\n",
       " 'What will be the number of Dengue Fever cases for Brazil on 6 July 2019 (epidemiological week 27)?',\n",
       " 'What will be the average percentage cost of remitting $200 USD from Russia to Ukraine in Third Quarter 2019?',\n",
       " 'Will Iran execute or be targeted in a national military attack between 6 June 2019 and 5 October 2019?',\n",
       " 'According to the Council on Foreign Relations (CFR) Global Monetary Policy Tracker, what will be the global monetary policy index in October 2019?',\n",
       " 'Will the UN Security Council adopt a resolution concerning Yemen between 9 June 2019 and 8 October 2019?',\n",
       " \"Before 30 November, will the UK's MI5 change their international terrorism threat level from SEVERE?\",\n",
       " 'Will there be a significant day-over-day increase in worldwide search interest in the term \"sabotage\" reported by Google Trends between 1 July 2019 and 31 July 2019?',\n",
       " \"Will Indonesia's President Joko Widodo experience a significant leadership disruption between 6 June 2019 and 31 October 2019?\",\n",
       " 'Which country will have the most energy-efficient supercomputers in the top 10 of the November 2019 Green500 list of highest-performing computer systems?',\n",
       " 'What will be the number of Dengue Fever cases for Mexico on 6 July 2019 (epidemiological week 27)?',\n",
       " 'Will ACLED record any riots in South Sudan between 1 November 2019 and 30 November 2019?',\n",
       " 'Will ACLED record any riots in Niger between 30 May 2019 and 9 June 2019?\\xa0',\n",
       " 'Between 30 May 2019 and 29 November 2019, will an Ebola health worker be injured or killed in an attack against an Ebola facility inside the Central African Republic, South Sudan, Uganda, Rwanda, Burundi, or Tanzania?',\n",
       " \"How many of Ukraine's Central Election Commission (CEC) members will cease to be a member by 29 July 2019?\",\n",
       " \"How many patents will China publish that have International Patent Classification (IPC) code 'G06N' (COMPUTER SYSTEMS BASED ON SPECIFIC COMPUTATIONAL MODELS) in June 2019?\",\n",
       " \"How many 'hacking or malware (HACK)' data breaches will Privacy Rights Clearinghouse record in June 2019?\",\n",
       " 'How many deaths perpetrated by Boko Haram will the Council on Foreign Relations report for June 2019?',\n",
       " 'Will Iran close the Strait of Hormuz for any length of time between 30 May 2019 and 20 July 2019?',\n",
       " 'How many strikes and worker protests will China Labour Bulletin record as having occurred between 28 July 2019 and 28 August 2019?',\n",
       " 'How many terrorist incidents with 15 or more dead (victims + perpetrators) will occur between 1 July 2019 and 31 July 2019 as reported by Wikipedia?',\n",
       " 'What will be the long-term interest rate for Hungary (HUN) in July 2019?',\n",
       " \"Who will win Istanbul, Turkey's mayoral election?\",\n",
       " 'Will a nuclear or radiological event occur with an INES Level 3 or higher rating between 30 May 2019 and 31 August 2019?',\n",
       " 'Between 30 May 2019 and 1 November 2019, will United Kingdom or Republic of Ireland authorities attribute three or more deaths to Irish republican/nationalist or unionist/loyalist violence?',\n",
       " 'Will there be more than 3,500 cumulative Ebola cases from the North Kivu Ebola Outbreak before 1 October 2019, according to the Humanitarian Data Exchange?',\n",
       " 'How many cases of measles will the European Centre for Disease Prevention and Control record in Poland for July 2019?',\n",
       " 'How many incidents of piracy and armed robbery will the IMO record in international or territorial waters in the South China Sea between 24 June 2019 and 24 July 2019?\\xa0',\n",
       " 'Between 23 May 2019 and 29 November 2019, how many tranches will the IMF approve for release to Ukraine?',\n",
       " 'Between 23 May 2019 and 29 November 2019, how many formal UN-sponsored talks will be convened between Morocco and the Polisario Front to address the Western Sahara conflict?\\r\\n',\n",
       " 'How many battle deaths will ACLED record in India in June 2019?',\n",
       " \"Before 30 November 2019, will Germany's Bundestag adopt a bill that would impose a fine on parents who refuse a measles vaccine for their children?\",\n",
       " 'Will the Government of Canada issue a travel advisory of \"Avoid non-essential travel\" or \"Avoid all travel\" for China between 23 May 2019 and 21 August 2019?',\n",
       " 'Will FEWS NET publish an alert for Afghanistan between 23 May 2019 and 25 September 2019?',\n",
       " 'How many civilians will be killed in Syria in September 2019, according to the Syrian Network for Human Rights (SNHR)?',\n",
       " 'Between 23 May 2019 and 30 July 2019, will the Spanish monarch appoint a President of the Government?',\n",
       " 'Will the United Kingdom (UK) leave the European Union (EU) before 1 November 2019?',\n",
       " \"Will South Sudan's President Salva Kiir Mayardit experience a significant leadership disruption between 23 May 2019 and 15 July 2019? \",\n",
       " 'Before 30 July 2019, will Saad Dinar be released?',\n",
       " 'Will there be an earthquake of magnitude 8.5 or stronger worldwide between 23 May 2019 and 31 October 2019?',\n",
       " \"What percentage of respondents will say that Germany's federal government is working well ('gut') in the June 2019 Politbarometer survey? \",\n",
       " 'What will be the daily closing price of platinum on 25 June 2019 in USD?',\n",
       " 'How much crude oil will Iraq produce in October 2019?',\n",
       " 'What will be the closing value of the Colombian Peso to one U.S. Dollar exchange rate on 7 June 2019?',\n",
       " 'How many homicides will the Mexican government report for Guerrero in June 2019?',\n",
       " 'Will ACLED record any riots in Vietnam between 21 June 2019 and 21 July 2019?\\xa0',\n",
       " 'Which country will account for the largest performance share in computational power in the November 2019 TOP500 list of highest-performing computer systems?',\n",
       " \"By 28 May 2019, how many signatures will Petition #89118 receive regarding Germany's recognition of the Ukraine Holodomor as genocide?\",\n",
       " 'On 29 July 2019, how many total cases of polio will be reported by EndPolio in Pakistan for 2019? ',\n",
       " 'Between 16 May 2019 and 30 July 2019, will the president of the Democratic Republic of the Congo (DRC) appoint a prime minister?',\n",
       " 'Between 16 May 2019 and 30 July 2019, for two consecutive Saturdays, will fewer than 5,000 cumulative daily protesters participate in \"Yellow Vests\" protests across France?',\n",
       " 'What will be the daily closing price of silver on 24 May 2019 in USD?',\n",
       " 'Will Julian Assange leave the UK between 16 May 2019 and 15 July 2019?',\n",
       " 'Will there be a significant day-over-day increase in worldwide search interest in the term \"ISIS\" reported by Google Trends between 1 November 2019 and 29 November 2019?',\n",
       " 'What will be the price of casual labor (unskilled, daily, without food) in Somalia in the Elwak market for June 2019?',\n",
       " 'How many Total Registered Syrian Refugees will be reported by the UNHCR on 15 July 2019?',\n",
       " 'Will Sudan execute or be targeted in a national military attack between 16 May 2019 and 30 June 2019?',\n",
       " 'What will be the daily closing price of gold on 10 July 2019 in USD?',\n",
       " 'Will ACLED record any riots in Thailand between 7 June 2019 and 7 July 2019?',\n",
       " 'Will the PITF Worldwide Atrocities Dataset record an event perpetrated by a state actor in Brazil (BRA) that starts between 18 August 2019 and 18 September 2019?',\n",
       " 'What will be the daily closing spot price of Brent crude oil (USD per barrel) on 12 June 2019, according to the U.S. EIA?']"
      ]
     },
     "execution_count": 8,
     "metadata": {},
     "output_type": "execute_result"
    }
   ],
   "source": [
    "[x[\"name\"] for x in all_ifps]"
   ]
  },
  {
   "cell_type": "markdown",
   "metadata": {},
   "source": [
    "Resolved IFPs"
   ]
  },
  {
   "cell_type": "code",
   "execution_count": 9,
   "metadata": {},
   "outputs": [
    {
     "name": "stdout",
     "output_type": "stream",
     "text": [
      "There are 15 resolved IFPs\n"
     ]
    },
    {
     "data": {
      "text/plain": [
       "[(2425,\n",
       "  \"What will be the daily closing price of Germany's DAX index on 28 June 2019?\",\n",
       "  '2019-07-01T17:00:06.886Z'),\n",
       " (2390,\n",
       "  \"How many seats will New Democracy win in Greece's next legislative election?\",\n",
       "  '2019-07-09T14:45:13.340Z'),\n",
       " (2315,\n",
       "  \"Before 1 July 2019, will the European Commission (EC) extend Switzerland's stock market equivalence status?\",\n",
       "  '2019-07-03T13:30:25.926Z'),\n",
       " (2255,\n",
       "  'Between 6 June 2019 and 30 June 2019, will anti-government protests in Albania result in a fatality?',\n",
       "  '2019-07-03T13:30:03.736Z'),\n",
       " (2165,\n",
       "  'Will ACLED record any riots in Niger between 30 May 2019 and 9 June 2019?\\xa0',\n",
       "  '2019-06-20T13:30:11.794Z'),\n",
       " (2150,\n",
       "  \"How many patents will China publish that have International Patent Classification (IPC) code 'G06N' (COMPUTER SYSTEMS BASED ON SPECIFIC COMPUTATIONAL MODELS) in June 2019?\",\n",
       "  '2019-07-03T18:00:09.144Z'),\n",
       " (2115,\n",
       "  \"Who will win Istanbul, Turkey's mayoral election?\",\n",
       "  '2019-06-25T17:00:03.438Z'),\n",
       " (2035,\n",
       "  'Before 30 July 2019, will Saad Dinar be released?',\n",
       "  '2019-06-05T19:15:06.080Z'),\n",
       " (2020,\n",
       "  'What will be the daily closing price of platinum on 25 June 2019 in USD?',\n",
       "  '2019-06-27T13:30:06.134Z'),\n",
       " (2010,\n",
       "  'What will be the closing value of the Colombian Peso to one U.S. Dollar exchange rate on 7 June 2019?',\n",
       "  '2019-06-10T18:30:13.350Z'),\n",
       " (1990,\n",
       "  \"By 28 May 2019, how many signatures will Petition #89118 receive regarding Germany's recognition of the Ukraine Holodomor as genocide?\",\n",
       "  '2019-05-29T19:00:06.141Z'),\n",
       " (1980,\n",
       "  'Between 16 May 2019 and 30 July 2019, will the president of the Democratic Republic of the Congo (DRC) appoint a prime minister?',\n",
       "  '2019-05-29T18:15:10.014Z'),\n",
       " (1970,\n",
       "  'What will be the daily closing price of silver on 24 May 2019 in USD?',\n",
       "  '2019-05-28T17:45:09.275Z'),\n",
       " (1945,\n",
       "  'Will Sudan execute or be targeted in a national military attack between 16 May 2019 and 30 June 2019?',\n",
       "  '2019-07-03T13:30:02.870Z'),\n",
       " (1925,\n",
       "  'What will be the daily closing spot price of Brent crude oil (USD per barrel) on 12 June 2019, according to the U.S. EIA?',\n",
       "  '2019-06-20T13:30:10.934Z')]"
      ]
     },
     "execution_count": 9,
     "metadata": {},
     "output_type": "execute_result"
    }
   ],
   "source": [
    "resolved_ifps = [x for x in all_ifps if x[\"resolved_at\"] is not None]\n",
    "print(\"There are {} resolved IFPs\".format(len(resolved_ifps)))\n",
    "[(x['id'],x[\"name\"],x['resolved_at']) for x in all_ifps if x[\"resolved_at\"] is not None]"
   ]
  },
  {
   "cell_type": "code",
   "execution_count": 10,
   "metadata": {},
   "outputs": [
    {
     "data": {
      "text/plain": [
       "{'active?': False,\n",
       " 'answers': [{'active?': False,\n",
       "   'binary?': False,\n",
       "   'correctness_known_at': '2019-07-01T13:36:50.000Z',\n",
       "   'created_at': '2019-06-19T16:45:21.009Z',\n",
       "   'description': None,\n",
       "   'ended?': True,\n",
       "   'ends_at': None,\n",
       "   'id': 6775,\n",
       "   'name': 'Less than 11,600',\n",
       "   'normalized_probability': 0.0,\n",
       "   'probability': 0.0,\n",
       "   'probability_formatted': '0%',\n",
       "   'question_id': 2425,\n",
       "   'question_name': \"What will be the daily closing price of Germany's DAX index on 28 June 2019?\",\n",
       "   'resolved?': True,\n",
       "   'resolved_at': '2019-07-01T17:00:06.217Z',\n",
       "   'resolving?': False,\n",
       "   'sort_order': 0,\n",
       "   'status': None,\n",
       "   'updated_at': '2019-07-01T17:00:06.255Z'},\n",
       "  {'active?': False,\n",
       "   'binary?': False,\n",
       "   'correctness_known_at': '2019-07-01T13:36:50.000Z',\n",
       "   'created_at': '2019-06-19T16:45:20.994Z',\n",
       "   'description': None,\n",
       "   'ended?': True,\n",
       "   'ends_at': None,\n",
       "   'id': 6774,\n",
       "   'name': 'Between 11,600 and 12,120, inclusive',\n",
       "   'normalized_probability': 0.0,\n",
       "   'probability': 0.0,\n",
       "   'probability_formatted': '0%',\n",
       "   'question_id': 2425,\n",
       "   'question_name': \"What will be the daily closing price of Germany's DAX index on 28 June 2019?\",\n",
       "   'resolved?': True,\n",
       "   'resolved_at': '2019-07-01T17:00:06.492Z',\n",
       "   'resolving?': False,\n",
       "   'sort_order': 1,\n",
       "   'status': None,\n",
       "   'updated_at': '2019-07-01T17:00:06.520Z'},\n",
       "  {'active?': False,\n",
       "   'binary?': False,\n",
       "   'correctness_known_at': '2019-07-01T13:36:50.000Z',\n",
       "   'created_at': '2019-06-19T16:45:20.979Z',\n",
       "   'description': None,\n",
       "   'ended?': True,\n",
       "   'ends_at': None,\n",
       "   'id': 6773,\n",
       "   'name': 'More than 12,120 but less than 12,570',\n",
       "   'normalized_probability': 1.0,\n",
       "   'probability': 1.0,\n",
       "   'probability_formatted': '100%',\n",
       "   'question_id': 2425,\n",
       "   'question_name': \"What will be the daily closing price of Germany's DAX index on 28 June 2019?\",\n",
       "   'resolved?': True,\n",
       "   'resolved_at': '2019-07-01T17:00:06.616Z',\n",
       "   'resolving?': False,\n",
       "   'sort_order': 2,\n",
       "   'status': None,\n",
       "   'updated_at': '2019-07-01T17:00:06.628Z'},\n",
       "  {'active?': False,\n",
       "   'binary?': False,\n",
       "   'correctness_known_at': '2019-07-01T13:36:50.000Z',\n",
       "   'created_at': '2019-06-19T16:45:20.958Z',\n",
       "   'description': None,\n",
       "   'ended?': True,\n",
       "   'ends_at': None,\n",
       "   'id': 6772,\n",
       "   'name': 'Between 12,570 and 13,080, inclusive',\n",
       "   'normalized_probability': 0.0,\n",
       "   'probability': 0.0,\n",
       "   'probability_formatted': '0%',\n",
       "   'question_id': 2425,\n",
       "   'question_name': \"What will be the daily closing price of Germany's DAX index on 28 June 2019?\",\n",
       "   'resolved?': True,\n",
       "   'resolved_at': '2019-07-01T17:00:06.718Z',\n",
       "   'resolving?': False,\n",
       "   'sort_order': 3,\n",
       "   'status': None,\n",
       "   'updated_at': '2019-07-01T17:00:06.742Z'},\n",
       "  {'active?': False,\n",
       "   'binary?': False,\n",
       "   'correctness_known_at': '2019-07-01T13:36:50.000Z',\n",
       "   'created_at': '2019-06-19T16:45:20.942Z',\n",
       "   'description': None,\n",
       "   'ended?': True,\n",
       "   'ends_at': None,\n",
       "   'id': 6771,\n",
       "   'name': 'More than 13,080',\n",
       "   'normalized_probability': 0.0,\n",
       "   'probability': 0.0,\n",
       "   'probability_formatted': '0%',\n",
       "   'question_id': 2425,\n",
       "   'question_name': \"What will be the daily closing price of Germany's DAX index on 28 June 2019?\",\n",
       "   'resolved?': True,\n",
       "   'resolved_at': '2019-07-01T17:00:06.846Z',\n",
       "   'resolving?': False,\n",
       "   'sort_order': 4,\n",
       "   'status': None,\n",
       "   'updated_at': '2019-07-01T17:00:06.870Z'}],\n",
       " 'answers_count': 5,\n",
       " 'binary?': False,\n",
       " 'clarifications': [],\n",
       " 'created_at': '2019-06-19T16:45:20.938Z',\n",
       " 'description': 'This question will be resolved using the daily closing price of the market of interest reported by Google Finance <a href=\"https://www.google.com/search?tbm=fin&ei=absAXaL7Hu6OggeOupa4DQ&q=INDEXDB%3ADAX&oq=INDEXDB%3ADAX&gs_l=finance-immersive.3..81i8k1l3.128627.210914.0.211577.2.2.0.0.0.0.153.153.0j1.1.0....0...1c.2.64.finance-immersive..1.1.152....0.KOAjfTuHWwQ#scso=_PbwAXaSqF46Rgged964I2:0\"target=\"_blank\">DAX</a>. Question will be closed the day before the date of interest.',\n",
       " 'election_question': False,\n",
       " 'ends_at': '2019-06-27T18:01:00.000Z',\n",
       " 'id': 2425,\n",
       " 'metadata': {'Country - Primary': 'Germany',\n",
       "  'Country - Secondary': 'N/A - Not Country-specific',\n",
       "  'Domain': 'Macroeconomics/Finance',\n",
       "  'Region': 'Europe',\n",
       "  'Topic': 'National stock market index price'},\n",
       " 'name': \"What will be the daily closing price of Germany's DAX index on 28 June 2019?\",\n",
       " 'published_at': '2019-06-19T16:45:21.056Z',\n",
       " 'resolution_notes': [''],\n",
       " 'resolved?': True,\n",
       " 'resolved_at': '2019-07-01T17:00:06.886Z',\n",
       " 'scoring_end_time': '2019-06-27T14:00:59.000-04:00',\n",
       " 'scoring_start_time': '2019-06-19T14:01:00.000-04:00',\n",
       " 'starts_at': '2019-06-19T16:30:00.000Z',\n",
       " 'state': 'resolved',\n",
       " 'type': 'Forecast::Question',\n",
       " 'updated_at': '2019-07-01T17:12:44.845Z',\n",
       " 'use_ordinal_scoring': True,\n",
       " 'void_reason': None,\n",
       " 'voided_at': None}"
      ]
     },
     "execution_count": 10,
     "metadata": {},
     "output_type": "execute_result"
    }
   ],
   "source": [
    "resolved_ifps[0]"
   ]
  },
  {
   "cell_type": "code",
   "execution_count": 11,
   "metadata": {
    "scrolled": true
   },
   "outputs": [
    {
     "name": "stdout",
     "output_type": "stream",
     "text": [
      "IFP 2425: What will be the daily closing price of Germany's DAX index on 28 June 2019?\n",
      "Description: This question will be resolved using the daily closing price of the market of interest reported by Google Finance <a href=\"https://www.google.com/search?tbm=fin&ei=absAXaL7Hu6OggeOupa4DQ&q=INDEXDB%3ADAX&oq=INDEXDB%3ADAX&gs_l=finance-immersive.3..81i8k1l3.128627.210914.0.211577.2.2.0.0.0.0.153.153.0j1.1.0....0...1c.2.64.finance-immersive..1.1.152....0.KOAjfTuHWwQ#scso=_PbwAXaSqF46Rgged964I2:0\"target=\"_blank\">DAX</a>. Question will be closed the day before the date of interest.\n",
      "Resolved: 2019-07-01T17:00:06.886Z\n",
      "Outcome: More than 12,120 but less than 12,570\n",
      "\n",
      "\n",
      "IFP 2390: How many seats will New Democracy win in Greece's next legislative election?\n",
      "Description: Greece's next legislative election is scheduled for 7 July 2019 and all 300 seats in the Hellenic Parliament are to be contested (<a href = \"https://www.bloomberg.com/news/articles/2019-05-29/greece-s-snap-elections-here-s-all-you-need-to-know-to-keep-up\"target=\"_blank\">Bloomberg</a>). Leftist party Syriza has led the government since 2015, but came in behind New Democracy in recent European and local elections (<a href = \"https://www.reuters.com/article/uk-eu-election-greece/greek-pm-calls-snap-vote-after-drubbing-for-ruling-syriza-idUKKCN1SW0TA\"target=\"_blank\">Reuters1</a>, <a href = \"https://www.euractiv.com/section/elections/news/new-democracy-sweeps-greek-local-elections/\"target=\"_blank\">Euractiv</a>, <a href = \"https://www.reuters.com/article/us-greece-election-leaders/conservatives-tipped-to-prevail-in-greek-local-election-runoffs-idUSKCN1T30DJ\"target=\"_blank\">Reuters2</a>). The question will resolve on party, not coalition, results.\n",
      "Resolved: 2019-07-09T14:45:13.340Z\n",
      "Outcome: A majority\n",
      "\n",
      "\n",
      "IFP 2315: Before 1 July 2019, will the European Commission (EC) extend Switzerland's stock market equivalence status?\n",
      "Description: In December 2018, the EC extended Switzerland's \"equivalence\" status for regulatory purposes, making stock market trading easier between the country and the EU (<a href = \"http://europa.eu/rapid/press-release_IP-18-6801_en.htm\"target=\"_blank\">Europa</a>, <a href = \"https://www.economist.com/finance-and-economics/2019/05/11/the-eu-tries-to-strong-arm-switzerland-into-a-new-trade-deal\"target=\"_blank\">Economist</a>, <a href = \"https://www.eda.admin.ch/dea/en/home/aktuell/medienmitteilungen.html/content/dea/en/meta/news/2018/12/20/73520\"target=\"_blank\">EuropeanAffairs</a>). The current granting of the status is set to expire at the end of June as Switzerland and the EU work to finalize an agreement for the Swiss to align its laws with the EU (<a href = \"https://www.reuters.com/article/us-swiss-eu/two-thirds-of-swiss-companies-want-treaty-with-eu-poll-idUSKCN1SY1OJ\"target=\"_blank\">Reuters</a>, <a href = \"https://www.bloomberg.com/news/articles/2019-05-19/swiss-face-next-eu-hurdle-after-falling-in-line-on-guns-and-tax\"target=\"_blank\">Bloomberg</a>).\n",
      "Resolved: 2019-07-03T13:30:25.926Z\n",
      "Outcome: No\n",
      "\n",
      "\n",
      "IFP 2255: Between 6 June 2019 and 30 June 2019, will anti-government protests in Albania result in a fatality?\n",
      "Description: Anti-government protests in Albania began in mid-February 2019 and have grown in intensity, including the use of firebombs against the office of Prime Minister Edi Rama, who is being accused of corruption and electoral crimes (<a href = \"https://www.euronews.com/2019/05/12/albania-protests-continue-as-petrol-bombs-hurled-at-prime-minister-s-office\"target=\"_blank\">EuroNews</a>, <a href = \"https://www.bbc.com/news/av/world-europe-48241966/albania-protests-petrol-bombs-hurled-at-pm-s-office\"target=\"_blank\">BBC</a>, <a href = \"https://www.rferl.org/a/albania/29938853.html\"target=\"_blank\">RFERL</a>).\n",
      "Resolved: 2019-07-03T13:30:03.736Z\n",
      "Outcome: No\n",
      "\n",
      "\n",
      "IFP 2165: Will ACLED record any riots in Niger between 30 May 2019 and 9 June 2019? \n",
      "Description: The Armed Conflict Location and Event Dataset (ACLED) summarizes press reports on conflict and protest events in Africa and parts of Asia. The relevant data can be accessed using the export tool at <a href = \"https://www.acleddata.com/data/\"target=\"_blank\">https://www.acleddata.com/data/</a>: \n",
      "- Set 'From' to the first day of the period of interest; \n",
      "- Set 'To' to the last day of the period of interest; \n",
      "- Set 'Country' to the country of interest;\n",
      "- Click 'Export.' \n",
      "The question will resolve as \"yes\" if ACLED records any event for which 'event_type' is Riots. If a qualifying event is recorded, the question will be closed retroactively with the date of the first event as the end date of the question.\n",
      "This question will be resolved by consulting the data source once each week sometime between 10:00 AM ET Wednesday and 4:00 PM ET Thursday, starting the Wednesday after the question close date and continuing once each week until the data are successfully retrieved. \n",
      "Resolved: 2019-06-20T13:30:11.794Z\n",
      "Outcome: No\n",
      "\n",
      "\n",
      "IFP 2150: How many patents will China publish that have International Patent Classification (IPC) code 'G06N' (COMPUTER SYSTEMS BASED ON SPECIFIC COMPUTATIONAL MODELS) in June 2019?\n",
      "Description: This question will be resolved using data from the European Patent Office. To access the relevant data:\n",
      "- Go to <a href=\"https://worldwide.espacenet.com/\"target=\"_blank\">Espacenet</a>;\n",
      "- Click on 'Advanced search' on the left of the page;\n",
      "- Verify that 'Worldwide – collection of published applications from 100+ countries' is selected in the collection search drop-down at the top;\n",
      "- Enter 'CN' in the 'Publication number' field;\n",
      "- Enter the year and month of interest in YYYYMM format in the 'Publication date' field;\n",
      "- Enter the IPC code of interest in the 'IPC' field;\n",
      "- Click 'Search.'\n",
      "The number of patents published is shown at the top of the 'Result list.'  If the count crosses the highest answer bin threshold before the close date, the question will be closed retroactively with the crossing date as the end date of the question. This question will be resolved by consulting the data source once each week sometime between 10:00 AM ET Wednesday and 4:00 PM ET Thursday, starting the Wednesday after the question close date and continuing once each week until the data are successfully retrieved. \n",
      "Resolved: 2019-07-03T18:00:09.144Z\n",
      "Outcome: Between 1,000 and 1,500, inclusive\n",
      "\n",
      "\n",
      "IFP 2115: Who will win Istanbul, Turkey's mayoral election?\n",
      "Description: Istanbul's March 2019 election was annulled by the Supreme Electoral Council. The re-run is scheduled for 23 June 2019. \n",
      "Resolved: 2019-06-25T17:00:03.438Z\n",
      "Outcome: Ekrem İmamoğlu\n",
      "\n",
      "\n",
      "IFP 2035: Before 30 July 2019, will Saad Dinar be released?\n",
      "Description: On 29 April 2019, Libyan Oil Workers' Union head Saad Dinar (also known as Saad Dinar el Fakhri) was reportedly captured by armed assailants (<a href = \"https://noc.ly/index.php/en/new-4/4759-noc-calls-for-immediate-safe-return-of-oil-workers-union-chief\"target=\"_blank\">NOC</a>, <a href = \"https://www.reuters.com/article/us-libya-security-oil/libyas-noc-calls-for-safe-return-of-head-of-oil-union-taken-in-east-idUSKCN1SA0J0\"target=\"_blank\">Reuters</a>, <a href = \"http://en.alwasat.ly/news/libya/244118\"target=\"_blank\">Alwasat</a>). For the purposes of this question, 'released' could include, but is not restricted to escape, rescue, or captor return, and he must be released alive. \n",
      "Resolved: 2019-06-05T19:15:06.080Z\n",
      "Outcome: Yes\n",
      "\n",
      "\n",
      "IFP 2020: What will be the daily closing price of platinum on 25 June 2019 in USD?\n",
      "Description: This question will be resolved using the last daily London Bullion Market Association (LBMA) Platinum Price USD (PM) <a href=\"http://www.lbma.org.uk/precious-metal-prices\"target=\"_blank\">http://www.lbma.org.uk/precious-metal-prices</a> for the date of interest. To access the relevant data:\n",
      "- Select 'Table'; \n",
      "- Select 'Platinum' from the 'Price for' dropdown menu; \n",
      "- Refer to the 'PM' column under 'USD.' \n",
      "This question will be closed on the day before the date of interest.\n",
      "Resolved: 2019-06-27T13:30:06.134Z\n",
      "Outcome: Between $790 and $830, inclusive\n",
      "\n",
      "\n",
      "IFP 2010: What will be the closing value of the Colombian Peso to one U.S. Dollar exchange rate on 7 June 2019?\n",
      "Description: This question will be resolved using the closing value reported by Bloomberg for the date of interest.\n",
      "- Go to <a href=\"https://www.bloomberg.com/quote/USDCOP:CUR\"target=\"_blank\">Bloomberg</a>;\n",
      "- Click 'VIEW FULL CHART' above the chart on the right;\n",
      "- Click the one month time frame '1M'.\n",
      "Question will be closed the day before the date of interest.\n",
      "Resolved: 2019-06-10T18:30:13.350Z\n",
      "Outcome: Less than 3,329\n",
      "\n",
      "\n",
      "IFP 1990: By 28 May 2019, how many signatures will Petition #89118 receive regarding Germany's recognition of the Ukraine Holodomor as genocide?\n",
      "Description: Only a handful of countries have officially recognized the Ukraine Holodomor as an act of genocide (<a href = \"http://holodomorct.org/holodomor-facts-and-history/\"target=\"_blank\">HolodomorOrg</a>, <a href = \"http://memorialholodomor.org.ua/eng/holodomor/genocide/act\"target=\"_blank\">MemorialHolodomorOrg</a>). In order for German Ministers of Parliament to review the petition, it must first receive 50,000 signatures which can be tracked at (<a href = \"https://epetitionen.bundestag.de/content/petitionen/_2018/_12/_14/Petition_89118.html\"target=\"_blank\">BundestagPetition89118</a> (in German; view the signature count on the right side of the page under \"Anzahl Online-Mitzeichner\" (translated: \"Number of online subscribers\")). This question will be resolved by consulting the BundestagPetition89118 between 12:00 PM and 2:00 PM ET on 28 May 2019. Resolution will be based on the value observed at the time of source consultation.\n",
      "Resolved: 2019-05-29T19:00:06.141Z\n",
      "Outcome: More than 49,999\n",
      "\n",
      "\n",
      "IFP 1980: Between 16 May 2019 and 30 July 2019, will the president of the Democratic Republic of the Congo (DRC) appoint a prime minister?\n",
      "Description: Disagreements between recently elected President Felix Tshisekedi of the DRC and former President Joseph Kabila (who remains influential as the leader of the majority party in the National Assembly) have produced a stalemate on a range of issues, including the appointment of a prime minister (<a href = \"https://worldview.stratfor.com/situation-report/congo-no-government-place-3-months-after-tshisekedi-assumed-office\"target=\"_blank\">Stratfor</a>, <a href = \"https://www.theeastafrican.co.ke/news/africa/Felix-tshisekedi-turned-down-joseph-kbila-PM-pick/4552902-5063776-11us1f1/index.html\"target=\"_blank\">TheEastAfrican</a>, <a href = \"https://www.dw.com/en/drcs-felix-tshisekedi-still-a-president-without-a-cabinet/a-48588554\"target=\"_blank\">DW</a>, <a href = \"https://www.reuters.com/article/us-congo-politics/congos-ex-leader-kabilas-party-to-pick-prime-minister-sources-idUSKCN1QP1V9\"target=\"_blank\">Reuters</a>). The president establishing a fact-finding mission, or \"mission d'information\" per Article 78 of the constitution, will not count (<a href = \"https://www.constituteproject.org/constitution/Democratic_Republic_of_the_Congo_2011.pdf?lang=en\"target=\"_blank\">ConstitutionProjectDRC</a>).\n",
      "Resolved: 2019-05-29T18:15:10.014Z\n",
      "Outcome: Yes\n",
      "\n",
      "\n",
      "IFP 1970: What will be the daily closing price of silver on 24 May 2019 in USD?\n",
      "Description: This question will be resolved using the last daily London Bullion Market Association (LBMA) Silver Price USD (PM) <a href=\"http://www.lbma.org.uk/precious-metal-prices\"target=\"_blank\">http://www.lbma.org.uk/precious-metal-prices</a> for the date of interest. To access the relevant data:\n",
      "- Select 'Table';\n",
      "- Select 'Silver' from the 'Price for' drop down menu;\n",
      "- Refer to the 'PM' column under 'USD.' \n",
      "Question will be closed on the day before the date of interest. \n",
      "Resolved: 2019-05-28T17:45:09.275Z\n",
      "Outcome: More than $14.37 but less than $14.86\n",
      "\n",
      "\n",
      "IFP 1945: Will Sudan execute or be targeted in a national military attack between 16 May 2019 and 30 June 2019?\n",
      "Description: A \"national military attack\" includes the employment of conventional or unconventional weapons by one country's national military forces (to include special forces) on another country's military, military assets, or territory, including citizens located within that territory, but excluding territorial waters, foreign missions, and/or exclusive economic zones. A \"cyber\" attack will not qualify as a \"national military attack.\" \n",
      "Resolved: 2019-07-03T13:30:02.870Z\n",
      "Outcome: No\n",
      "\n",
      "\n",
      "IFP 1925: What will be the daily closing spot price of Brent crude oil (USD per barrel) on 12 June 2019, according to the U.S. EIA?\n",
      "Description: This question will be resolved using the daily closing spot price for wholesale Brent crude oil reported by the Energy Information Administration (<a href=\"https://www.eia.gov/dnav/pet/pet_pri_spt_s1_d.htm\"target=\"_blank\">https://www.eia.gov/dnav/pet/pet_pri_spt_s1_d.htm</a>). \n",
      "Resolved: 2019-06-20T13:30:10.934Z\n",
      "Outcome: Less than $62.21 \n",
      "\n",
      "\n"
     ]
    }
   ],
   "source": [
    "for ri in resolved_ifps:\n",
    "    id_ = \"IFP {}\".format(ri['id'])\n",
    "    name_ = ri['name']\n",
    "    desc = ri['description']\n",
    "    res_date = ri['resolved_at']\n",
    "    print(\"{0}: {1}\".format(id_, name_))\n",
    "    print(\"Description: {}\".format(desc))\n",
    "    print(\"Resolved: {}\".format(res_date))\n",
    "    if ri['binary?']:\n",
    "        yes_prob = ri['answers'][0]['probability']\n",
    "        if yes_prob > 0:\n",
    "            print(\"Outcome: Yes\")\n",
    "        else:\n",
    "            print(\"Outcome: No\")\n",
    "    else:\n",
    "        answers = [x['name'] for x in ri['answers']\n",
    "                   if x['probability'] > 0]\n",
    "        print(\"Outcome: {}\".format(answers[0]))\n",
    "        \n",
    "    print(\"\\n\")"
   ]
  },
  {
   "cell_type": "code",
   "execution_count": 12,
   "metadata": {},
   "outputs": [
    {
     "data": {
      "text/plain": [
       "0"
      ]
     },
     "execution_count": 12,
     "metadata": {},
     "output_type": "execute_result"
    }
   ],
   "source": [
    "len([x for x in resolved_ifps if x['voided_at'] is not None])"
   ]
  },
  {
   "cell_type": "code",
   "execution_count": 13,
   "metadata": {},
   "outputs": [
    {
     "data": {
      "text/plain": [
       "[{'active?': False,\n",
       "  'binary?': False,\n",
       "  'correctness_known_at': '2019-07-01T13:36:50.000Z',\n",
       "  'created_at': '2019-06-19T16:45:21.009Z',\n",
       "  'description': None,\n",
       "  'ended?': True,\n",
       "  'ends_at': None,\n",
       "  'id': 6775,\n",
       "  'name': 'Less than 11,600',\n",
       "  'normalized_probability': 0.0,\n",
       "  'probability': 0.0,\n",
       "  'probability_formatted': '0%',\n",
       "  'question_id': 2425,\n",
       "  'question_name': \"What will be the daily closing price of Germany's DAX index on 28 June 2019?\",\n",
       "  'resolved?': True,\n",
       "  'resolved_at': '2019-07-01T17:00:06.217Z',\n",
       "  'resolving?': False,\n",
       "  'sort_order': 0,\n",
       "  'status': None,\n",
       "  'updated_at': '2019-07-01T17:00:06.255Z'},\n",
       " {'active?': False,\n",
       "  'binary?': False,\n",
       "  'correctness_known_at': '2019-07-01T13:36:50.000Z',\n",
       "  'created_at': '2019-06-19T16:45:20.994Z',\n",
       "  'description': None,\n",
       "  'ended?': True,\n",
       "  'ends_at': None,\n",
       "  'id': 6774,\n",
       "  'name': 'Between 11,600 and 12,120, inclusive',\n",
       "  'normalized_probability': 0.0,\n",
       "  'probability': 0.0,\n",
       "  'probability_formatted': '0%',\n",
       "  'question_id': 2425,\n",
       "  'question_name': \"What will be the daily closing price of Germany's DAX index on 28 June 2019?\",\n",
       "  'resolved?': True,\n",
       "  'resolved_at': '2019-07-01T17:00:06.492Z',\n",
       "  'resolving?': False,\n",
       "  'sort_order': 1,\n",
       "  'status': None,\n",
       "  'updated_at': '2019-07-01T17:00:06.520Z'},\n",
       " {'active?': False,\n",
       "  'binary?': False,\n",
       "  'correctness_known_at': '2019-07-01T13:36:50.000Z',\n",
       "  'created_at': '2019-06-19T16:45:20.979Z',\n",
       "  'description': None,\n",
       "  'ended?': True,\n",
       "  'ends_at': None,\n",
       "  'id': 6773,\n",
       "  'name': 'More than 12,120 but less than 12,570',\n",
       "  'normalized_probability': 1.0,\n",
       "  'probability': 1.0,\n",
       "  'probability_formatted': '100%',\n",
       "  'question_id': 2425,\n",
       "  'question_name': \"What will be the daily closing price of Germany's DAX index on 28 June 2019?\",\n",
       "  'resolved?': True,\n",
       "  'resolved_at': '2019-07-01T17:00:06.616Z',\n",
       "  'resolving?': False,\n",
       "  'sort_order': 2,\n",
       "  'status': None,\n",
       "  'updated_at': '2019-07-01T17:00:06.628Z'},\n",
       " {'active?': False,\n",
       "  'binary?': False,\n",
       "  'correctness_known_at': '2019-07-01T13:36:50.000Z',\n",
       "  'created_at': '2019-06-19T16:45:20.958Z',\n",
       "  'description': None,\n",
       "  'ended?': True,\n",
       "  'ends_at': None,\n",
       "  'id': 6772,\n",
       "  'name': 'Between 12,570 and 13,080, inclusive',\n",
       "  'normalized_probability': 0.0,\n",
       "  'probability': 0.0,\n",
       "  'probability_formatted': '0%',\n",
       "  'question_id': 2425,\n",
       "  'question_name': \"What will be the daily closing price of Germany's DAX index on 28 June 2019?\",\n",
       "  'resolved?': True,\n",
       "  'resolved_at': '2019-07-01T17:00:06.718Z',\n",
       "  'resolving?': False,\n",
       "  'sort_order': 3,\n",
       "  'status': None,\n",
       "  'updated_at': '2019-07-01T17:00:06.742Z'},\n",
       " {'active?': False,\n",
       "  'binary?': False,\n",
       "  'correctness_known_at': '2019-07-01T13:36:50.000Z',\n",
       "  'created_at': '2019-06-19T16:45:20.942Z',\n",
       "  'description': None,\n",
       "  'ended?': True,\n",
       "  'ends_at': None,\n",
       "  'id': 6771,\n",
       "  'name': 'More than 13,080',\n",
       "  'normalized_probability': 0.0,\n",
       "  'probability': 0.0,\n",
       "  'probability_formatted': '0%',\n",
       "  'question_id': 2425,\n",
       "  'question_name': \"What will be the daily closing price of Germany's DAX index on 28 June 2019?\",\n",
       "  'resolved?': True,\n",
       "  'resolved_at': '2019-07-01T17:00:06.846Z',\n",
       "  'resolving?': False,\n",
       "  'sort_order': 4,\n",
       "  'status': None,\n",
       "  'updated_at': '2019-07-01T17:00:06.870Z'}]"
      ]
     },
     "execution_count": 13,
     "metadata": {},
     "output_type": "execute_result"
    }
   ],
   "source": [
    "resolved_ifps[0]['answers']"
   ]
  },
  {
   "cell_type": "markdown",
   "metadata": {},
   "source": [
    "## Recently Changed IFPs"
   ]
  },
  {
   "cell_type": "code",
   "execution_count": 14,
   "metadata": {},
   "outputs": [
    {
     "name": "stdout",
     "output_type": "stream",
     "text": [
      "2019-07-09T15:3147\n"
     ]
    }
   ],
   "source": [
    "today = time.strftime(\"%Y-%m-%dT%H:%M%S\")\n",
    "print(today)"
   ]
  },
  {
   "cell_type": "code",
   "execution_count": 15,
   "metadata": {},
   "outputs": [
    {
     "name": "stdout",
     "output_type": "stream",
     "text": [
      "There are 0 new IFPs\n",
      "There are 1 newly resolved IFPs\n",
      "There are 0 IFPs recently updated otherwise\n"
     ]
    }
   ],
   "source": [
    "RECENT_DATE = \"2019-07-08T00:00:00Z\"\n",
    "recent_date = parse(RECENT_DATE)\n",
    "new_ifps = [x for x in all_ifps if parse(x[\"created_at\"]) >= recent_date]\n",
    "print(\"There are {} new IFPs\".format(len(new_ifps)))\n",
    "newly_resolved_ifps = [x for x in all_ifps if x[\"resolved_at\"] is not None\n",
    "                       and parse(x[\"resolved_at\"]) >= recent_date]\n",
    "print(\"There are {} newly resolved IFPs\".format(len(newly_resolved_ifps)))\n",
    "new_updated = [x for x in all_ifps if parse(x[\"updated_at\"]) > recent_date]\n",
    "other_updates = [x for x in new_updated if x not in new_ifps]\n",
    "other_updates = [x for x in other_updates if x not in newly_resolved_ifps]\n",
    "print(\"There are {} IFPs recently updated otherwise\".format(len(other_updates)))\n",
    "#ne"
   ]
  },
  {
   "cell_type": "code",
   "execution_count": 16,
   "metadata": {
    "scrolled": false
   },
   "outputs": [
    {
     "name": "stdout",
     "output_type": "stream",
     "text": [
      "IFP 2390: How many seats will New Democracy win in Greece's next legislative election?\n",
      "Description: Greece's next legislative election is scheduled for 7 July 2019 and all 300 seats in the Hellenic Parliament are to be contested (<a href = \"https://www.bloomberg.com/news/articles/2019-05-29/greece-s-snap-elections-here-s-all-you-need-to-know-to-keep-up\"target=\"_blank\">Bloomberg</a>). Leftist party Syriza has led the government since 2015, but came in behind New Democracy in recent European and local elections (<a href = \"https://www.reuters.com/article/uk-eu-election-greece/greek-pm-calls-snap-vote-after-drubbing-for-ruling-syriza-idUKKCN1SW0TA\"target=\"_blank\">Reuters1</a>, <a href = \"https://www.euractiv.com/section/elections/news/new-democracy-sweeps-greek-local-elections/\"target=\"_blank\">Euractiv</a>, <a href = \"https://www.reuters.com/article/us-greece-election-leaders/conservatives-tipped-to-prevail-in-greek-local-election-runoffs-idUSKCN1T30DJ\"target=\"_blank\">Reuters2</a>). The question will resolve on party, not coalition, results.\n",
      "Resolved: 2019-07-09T14:45:13.340Z\n",
      "Outcome: A majority\n",
      "\n",
      "\n"
     ]
    }
   ],
   "source": [
    "for ri in newly_resolved_ifps:\n",
    "    id_ = \"IFP {}\".format(ri['id'])\n",
    "    name_ = ri['name']\n",
    "    desc = ri['description']\n",
    "    res_date = ri['resolved_at']\n",
    "    print(\"{0}: {1}\".format(id_, name_))\n",
    "    print(\"Description: {}\".format(desc))\n",
    "    print(\"Resolved: {}\".format(res_date))\n",
    "    if ri['binary?']:\n",
    "        yes_prob = ri['answers'][0]['probability']\n",
    "        if yes_prob > 0:\n",
    "            print(\"Outcome: Yes\")\n",
    "        else:\n",
    "            print(\"Outcome: No\")\n",
    "    else:\n",
    "        answers = [x['name'] for x in ri['answers']\n",
    "                   if x['probability'] > 0]\n",
    "        print(\"Outcome: {}\".format(answers[0]))\n",
    "        \n",
    "    print(\"\\n\")"
   ]
  },
  {
   "cell_type": "code",
   "execution_count": 17,
   "metadata": {
    "scrolled": false
   },
   "outputs": [],
   "source": [
    "for item in other_updates:\n",
    "    print(item['clarifications'])"
   ]
  },
  {
   "cell_type": "code",
   "execution_count": 20,
   "metadata": {},
   "outputs": [
    {
     "name": "stdout",
     "output_type": "stream",
     "text": [
      "There are 10 pages\n",
      "There are 93 open IFPs\n",
      "\n"
     ]
    }
   ],
   "source": [
    "open_ifps=gf.get_questions(status=\"open\", training_data=False)\n",
    "print(\"There are {} open IFPs\\n\".format(len(open_ifps)))"
   ]
  },
  {
   "cell_type": "code",
   "execution_count": 21,
   "metadata": {
    "collapsed": true
   },
   "outputs": [],
   "source": [
    "today = time.strftime(\"%Y-%m-%d\")\n",
    "_filename = \"Open IFP Snapshot {}.json\".format(today)\n",
    "_path = os.path.join(DATA_PATH, \"IFPs\", _filename)\n",
    "with open(_path, \"w\") as f:\n",
    "    json.dump(open_ifps, f, ensure_ascii=False, sort_keys=True, indent=2)"
   ]
  },
  {
   "cell_type": "code",
   "execution_count": 22,
   "metadata": {
    "scrolled": false
   },
   "outputs": [
    {
     "name": "stdout",
     "output_type": "stream",
     "text": [
      "93 93\n"
     ]
    }
   ],
   "source": [
    "ifp_ids = [x[\"id\"] for x in open_ifps]\n",
    "print(len(ifp_ids), len(set(ifp_ids)))"
   ]
  },
  {
   "cell_type": "code",
   "execution_count": 23,
   "metadata": {},
   "outputs": [
    {
     "name": "stdout",
     "output_type": "stream",
     "text": [
      "There are 3 pages\n",
      "There are 28 closed IFPs\n",
      "\n",
      "IFP 2425: What will be the daily closing price of Germany's DAX index on 28 June 2019?\n",
      "Description: This question will be resolved using the daily closing price of the market of interest reported by Google Finance <a href=\"https://www.google.com/search?tbm=fin&ei=absAXaL7Hu6OggeOupa4DQ&q=INDEXDB%3ADAX&oq=INDEXDB%3ADAX&gs_l=finance-immersive.3..81i8k1l3.128627.210914.0.211577.2.2.0.0.0.0.153.153.0j1.1.0....0...1c.2.64.finance-immersive..1.1.152....0.KOAjfTuHWwQ#scso=_PbwAXaSqF46Rgged964I2:0\"target=\"_blank\">DAX</a>. Question will be closed the day before the date of interest.\n",
      "Starts: 2019-06-19T16:30:00.000Z, Ends: 2019-06-27T18:01:00.000Z\n",
      "Options:\n",
      " (6775) Less than 11,600\n",
      " (6774) Between 11,600 and 12,120, inclusive\n",
      " (6773) More than 12,120 but less than 12,570\n",
      " (6772) Between 12,570 and 13,080, inclusive\n",
      " (6771) More than 13,080\n",
      "\n",
      "IFP 2410: What will be the FAO Vegetable Oil Price Index in June 2019?\n",
      "Description: This question will be resolved using data reported by the Food and Agricultural Organization of the United Nations (FAO). Relevant data are available on the <a href=\"http://www.fao.org/worldfoodsituation/foodpricesindex/en/\"target=\"_blank\"> FAO website </a> in the 'FAO food price index' table. This question will be resolved by consulting the data source once each week sometime between 10:00 AM ET Wednesday and 4:00 PM ET Thursday, starting the Wednesday after the question close date and continuing once each week until the data are successfully retrieved. \n",
      "Starts: 2019-06-19T16:30:00.000Z, Ends: 2019-06-30T18:01:00.000Z\n",
      "Options:\n",
      " (6720) Less than 122.0\n",
      " (6719) Between 122.0 and 125.8, inclusive\n",
      " (6718) More than 125.8 but less than 129.0\n",
      " (6717) Between 129.0 and 132.8, inclusive\n",
      " (6716) More than 132.8\n",
      "\n",
      "IFP 2390: How many seats will New Democracy win in Greece's next legislative election?\n",
      "Description: Greece's next legislative election is scheduled for 7 July 2019 and all 300 seats in the Hellenic Parliament are to be contested (<a href = \"https://www.bloomberg.com/news/articles/2019-05-29/greece-s-snap-elections-here-s-all-you-need-to-know-to-keep-up\"target=\"_blank\">Bloomberg</a>). Leftist party Syriza has led the government since 2015, but came in behind New Democracy in recent European and local elections (<a href = \"https://www.reuters.com/article/uk-eu-election-greece/greek-pm-calls-snap-vote-after-drubbing-for-ruling-syriza-idUKKCN1SW0TA\"target=\"_blank\">Reuters1</a>, <a href = \"https://www.euractiv.com/section/elections/news/new-democracy-sweeps-greek-local-elections/\"target=\"_blank\">Euractiv</a>, <a href = \"https://www.reuters.com/article/us-greece-election-leaders/conservatives-tipped-to-prevail-in-greek-local-election-runoffs-idUSKCN1T30DJ\"target=\"_blank\">Reuters2</a>). The question will resolve on party, not coalition, results.\n",
      "Starts: 2019-06-19T16:30:00.000Z, Ends: 2019-07-06T18:01:00.000Z\n",
      "Options:\n",
      " (6655) A majority\n",
      " (6654) A plurality\n",
      " (6653) Neither a majority nor a plurality\n",
      "\n",
      "IFP 2335: What will be the monthly period-over-period change in the consumer price index (CPI) for China, P.R.: Mainland in June 2019?\n",
      "Description: This question will be resolved using data from the International Monetary Fund (<a href = \"http://data.imf.org/regular.aspx?key=61015893\"target=\"_blank\">http://data.imf.org/regular.aspx?key=61015893</a>). To access the relevant data:\n",
      "- Select the country of interest from the Country drop down menu; \n",
      "- Select 'Consumer Price Index, All items' from the Indicator drop down menu. \n",
      "The relevant row is 'China, P.R.: Mainland, Consumer Price Index, All items,' and the relevant column is '2019M06.' This question will be resolved by consulting the data source once each week sometime between 10:00 AM ET Wednesday and 4:00 PM ET Thursday, starting the Wednesday after the question close date and continuing once each week until the data are successfully retrieved.\n",
      "Starts: 2019-06-12T16:30:00.000Z, Ends: 2019-06-30T18:01:00.000Z\n",
      "Options:\n",
      " (6510) Less than -0.4\n",
      " (6509) Between -0.4 and 0, inclusive\n",
      " (6506) More than 0 but less than 0.4\n",
      " (6507) Between 0.4 and 0.8, inclusive\n",
      " (6508) More than 0.8\n",
      "\n",
      "IFP 2315: Before 1 July 2019, will the European Commission (EC) extend Switzerland's stock market equivalence status?\n",
      "Description: In December 2018, the EC extended Switzerland's \"equivalence\" status for regulatory purposes, making stock market trading easier between the country and the EU (<a href = \"http://europa.eu/rapid/press-release_IP-18-6801_en.htm\"target=\"_blank\">Europa</a>, <a href = \"https://www.economist.com/finance-and-economics/2019/05/11/the-eu-tries-to-strong-arm-switzerland-into-a-new-trade-deal\"target=\"_blank\">Economist</a>, <a href = \"https://www.eda.admin.ch/dea/en/home/aktuell/medienmitteilungen.html/content/dea/en/meta/news/2018/12/20/73520\"target=\"_blank\">EuropeanAffairs</a>). The current granting of the status is set to expire at the end of June as Switzerland and the EU work to finalize an agreement for the Swiss to align its laws with the EU (<a href = \"https://www.reuters.com/article/us-swiss-eu/two-thirds-of-swiss-companies-want-treaty-with-eu-poll-idUSKCN1SY1OJ\"target=\"_blank\">Reuters</a>, <a href = \"https://www.bloomberg.com/news/articles/2019-05-19/swiss-face-next-eu-hurdle-after-falling-in-line-on-guns-and-tax\"target=\"_blank\">Bloomberg</a>).\n",
      "Starts: 2019-06-12T16:30:00.000Z, Ends: 2019-06-30T18:01:00.000Z\n",
      "Options:\n",
      " (6460) Yes\n",
      "\n",
      "IFP 2255: Between 6 June 2019 and 30 June 2019, will anti-government protests in Albania result in a fatality?\n",
      "Description: Anti-government protests in Albania began in mid-February 2019 and have grown in intensity, including the use of firebombs against the office of Prime Minister Edi Rama, who is being accused of corruption and electoral crimes (<a href = \"https://www.euronews.com/2019/05/12/albania-protests-continue-as-petrol-bombs-hurled-at-prime-minister-s-office\"target=\"_blank\">EuroNews</a>, <a href = \"https://www.bbc.com/news/av/world-europe-48241966/albania-protests-petrol-bombs-hurled-at-pm-s-office\"target=\"_blank\">BBC</a>, <a href = \"https://www.rferl.org/a/albania/29938853.html\"target=\"_blank\">RFERL</a>).\n",
      "Starts: 2019-06-05T16:30:00.000Z, Ends: 2019-06-30T18:01:00.000Z\n",
      "Options:\n",
      " (6340) Yes\n",
      "\n",
      "IFP 2235: Before 1 July 2019, will the FAO report 1,200,000 or more pigs have been culled in China to thwart the spread of African Swine Fever?\n",
      "Description: China is experiencing an African Swine Fever (ASF) epidemic that has resulted in more than a million pigs being culled. African swine fever is highly contagious and, so far, incurable (<a href=\"https://www.bbc.com/news/business-47956960\"target=\"_blank\">BBC</a>). The Food and Agriculture Organization (FAO) has been publishing weekly reports as the situation unfolds, which include updated statistics on the number of culled swine associated with the viral outbreak that began in August 2018: <a href=\"http://www.fao.org/ag/againfo/programmes/en/empres/ASF/Situation_update.html\"target=\"_blank\">http://www.fao.org/ag/againfo/programmes/en/empres/ASF/Situation_update.html</a>. This question will be resolved by consulting the FAO reports sometime between 10:00 AM ET Wednesday and 4:00 PM ET Thursday, after the question close date. If the indicated threshold is reported to have been exceeded prior to the end date of the question, the question will be resolved retroactively with the date of the update in which the threshold was indicated to have been exceeded as the end date of the question. Previous updates may be accessed using the “ARCHIVE” button in the upper right-hand corner of the FAO ASF situation update page.\n",
      "Starts: 2019-06-05T16:30:00.000Z, Ends: 2019-06-30T18:01:00.000Z\n",
      "Options:\n",
      " (6275) Yes\n",
      "\n",
      "IFP 2220: What will be the number of Dengue Fever cases for Brazil on 6 July 2019 (epidemiological week 27)?\n",
      "Description: This question will be resolved using data from the Pan American Health Organization (<a href=\"http://www.paho.org/data/index.php/en/mnu-topics/indicadores-dengue-en/dengue-nacional-en/252-dengue-pais-ano-en.html\"target=\"_blank\">PAHO</a>). To access the relevant data:\n",
      "- Go to: <a href=\"http://www.paho.org/data/index.php/en/mnu-topics/indicadores-dengue-en/dengue-nacional-en/252-dengue-pais-ano-en.html\"target=\"_blank\">PAHO</a>; \n",
      "- Select the year of interest and the epidemiological week of interest by sliding the bar or clicking the arrows;\n",
      "- Scroll down the page to find the country of interest;\n",
      "- Total cases is pulled from column b.\n",
      "This question will be resolved by consulting the data source once each week sometime between 10:00 AM ET Wednesday and 4:00 PM ET Thursday, starting 14 August 2019 and continuing once each week until the data are successfully retrieved.\n",
      "Starts: 2019-06-05T16:30:00.000Z, Ends: 2019-07-05T18:01:00.000Z\n",
      "Options:\n",
      " (6225) Less than 675,000\n",
      " (6224) Between 675,000 and 720,000, inclusive\n",
      " (6223) More than 720,000 but less than 785,000 \n",
      " (6222) Between 785,000 and 850,000, inclusive\n",
      " (6221) More than 850,000\n",
      "\n",
      "IFP 2175: What will be the number of Dengue Fever cases for Mexico on 6 July 2019 (epidemiological week 27)?\n",
      "Description: This question will be resolved using data from the Pan American Health Organization (<a href=\"http://www.paho.org/data/index.php/en/mnu-topics/indicadores-dengue-en/dengue-nacional-en/252-dengue-pais-ano-en.html\"target=\"_blank\">PAHO</a>). To access the relevant data:\n",
      "- Go to: <a href=\"http://www.paho.org/data/index.php/en/mnu-topics/indicadores-dengue-en/dengue-nacional-en/252-dengue-pais-ano-en.html\"target=\"_blank\">PAHO</a>; \n",
      "- Select the year of interest and the epidemiological week of interest by sliding the bar or clicking the arrows;\n",
      "- Scroll down the page to find the country of interest;\n",
      "- Total cases is pulled from column b.\n",
      "This question will be resolved by consulting the data source once each week sometime between 10:00 AM ET Wednesday and 4:00 PM ET Thursday, starting 14 August 2019 and continuing once each week until the data are successfully retrieved.\n",
      "Starts: 2019-06-05T16:30:00.000Z, Ends: 2019-07-05T18:01:00.000Z\n",
      "Options:\n",
      " (6115) Less than 16,000\n",
      " (6114) Between 16,000 and 18,000, inclusive\n",
      " (6113) More than 18,000 but less than 21,000\n",
      " (6112) Between 21,000 and 23,000, inclusive\n",
      " (6111) More than 23,000\n",
      "\n",
      "IFP 2165: Will ACLED record any riots in Niger between 30 May 2019 and 9 June 2019? \n",
      "Description: The Armed Conflict Location and Event Dataset (ACLED) summarizes press reports on conflict and protest events in Africa and parts of Asia. The relevant data can be accessed using the export tool at <a href = \"https://www.acleddata.com/data/\"target=\"_blank\">https://www.acleddata.com/data/</a>: \n",
      "- Set 'From' to the first day of the period of interest; \n",
      "- Set 'To' to the last day of the period of interest; \n",
      "- Set 'Country' to the country of interest;\n",
      "- Click 'Export.' \n",
      "The question will resolve as \"yes\" if ACLED records any event for which 'event_type' is Riots. If a qualifying event is recorded, the question will be closed retroactively with the date of the first event as the end date of the question.\n",
      "This question will be resolved by consulting the data source once each week sometime between 10:00 AM ET Wednesday and 4:00 PM ET Thursday, starting the Wednesday after the question close date and continuing once each week until the data are successfully retrieved. \n",
      "Starts: 2019-05-29T16:30:00.000Z, Ends: 2019-06-09T18:01:00.000Z\n",
      "Options:\n",
      " (6085) Yes\n",
      "\n",
      "IFP 2150: How many patents will China publish that have International Patent Classification (IPC) code 'G06N' (COMPUTER SYSTEMS BASED ON SPECIFIC COMPUTATIONAL MODELS) in June 2019?\n",
      "Description: This question will be resolved using data from the European Patent Office. To access the relevant data:\n",
      "- Go to <a href=\"https://worldwide.espacenet.com/\"target=\"_blank\">Espacenet</a>;\n",
      "- Click on 'Advanced search' on the left of the page;\n",
      "- Verify that 'Worldwide – collection of published applications from 100+ countries' is selected in the collection search drop-down at the top;\n",
      "- Enter 'CN' in the 'Publication number' field;\n",
      "- Enter the year and month of interest in YYYYMM format in the 'Publication date' field;\n",
      "- Enter the IPC code of interest in the 'IPC' field;\n",
      "- Click 'Search.'\n",
      "The number of patents published is shown at the top of the 'Result list.'  If the count crosses the highest answer bin threshold before the close date, the question will be closed retroactively with the crossing date as the end date of the question. This question will be resolved by consulting the data source once each week sometime between 10:00 AM ET Wednesday and 4:00 PM ET Thursday, starting the Wednesday after the question close date and continuing once each week until the data are successfully retrieved. \n",
      "Starts: 2019-05-29T16:30:00.000Z, Ends: 2019-06-30T18:01:00.000Z\n",
      "Options:\n",
      " (6055) Less than 1,000\n",
      " (6054) Between 1,000 and 1,500, inclusive\n",
      " (6053) More than 1,500\n",
      "\n",
      "IFP 2145: How many 'hacking or malware (HACK)' data breaches will Privacy Rights Clearinghouse record in June 2019?\n",
      "Description: This question will be resolved using <a href = \"https://www.privacyrights.org/data-breaches\"target=\"_blank\">Privacy Rights Clearinghouse's Chronology of Data Breaches</a>. To access the relevant data:\n",
      "- Select 'Hacking or Malware (HACK)' as the type of breach;\n",
      "- Click 'Search Data Breaches';\n",
      "- Download the 'Data Breach File'; \n",
      "- Count the number of entries, for all organizations, in which 'Date Made Public' falls in the month of interest (sort by 'Date Made Public', if necessary). If the count crosses the highest answer bin threshold before the close date, the question will be closed retroactively with the crossing date as the end date of the question. This question will be resolved by consulting the data source once each week sometime between 10:00 AM ET Wednesday and 4:00 PM ET Thursday, starting 31 July 2019 and continuing once each week until the data are successfully retrieved.\n",
      "Starts: 2019-05-29T16:30:00.000Z, Ends: 2019-06-30T18:01:00.000Z\n",
      "Options:\n",
      " (6040) Less than 10\n",
      " (6039) Between 10 and 16, inclusive\n",
      " (6038) More than 16 but less than 22\n",
      " (6037) Between 22 and 30, inclusive\n",
      " (6036) More than 30\n",
      "\n",
      "IFP 2140: How many deaths perpetrated by Boko Haram will the Council on Foreign Relations report for June 2019?\n",
      "Description: The Council on Foreign Relations (CFR) <a href=\"https://www.cfr.org/nigeria/nigeria-security-tracker/p29483\" target=\"_blank\">Nigeria Security Tracker</a> reports on countrywide violence stemming from political, economic and social grievances. This question will be resolved using data reported by the CFR.  To access the relevant data, open the <a href=\"https://docs.google.com/spreadsheets/d/1_QY-l4xhMu5nZVluprOgRs6rUzgkkBemapdsg5lFzKU/pub?output=xlsx\" target=\"_blank\">CFR dataset</a> and refer to the sheet entitled 'NST Main Dataset.' The count of deaths for the period of interest is obtained by summing the 'Total Deaths' column for events in which Boko Haram is identified as a perpetrator (in the 'Boko Haram (P)' column) and 'Date' falls in the period of interest. If the count crosses the highest answer bin threshold before the close date, the question will be closed retroactively with the crossing date as the end date of the question. This question will be resolved by consulting the data source once each week sometime between 10:00 AM ET Wednesday and 4:00 PM ET Thursday, starting the Wednesday after the question close date and continuing once each week until the data are successfully retrieved. \n",
      "Starts: 2019-05-29T16:30:00.000Z, Ends: 2019-06-30T18:01:00.000Z\n",
      "Options:\n",
      " (6011) Less than 110\n",
      " (6015) Between 110 and 150, inclusive\n",
      " (6014) More than 150 but less than 200\n",
      " (6013) Between 200 and 270, inclusive\n",
      " (6012) More than 270\n",
      "\n",
      "IFP 2115: Who will win Istanbul, Turkey's mayoral election?\n",
      "Description: Istanbul's March 2019 election was annulled by the Supreme Electoral Council. The re-run is scheduled for 23 June 2019. \n",
      "Starts: 2019-05-29T16:30:00.000Z, Ends: 2019-06-22T18:01:00.000Z\n",
      "Options:\n",
      " (5930) Ekrem İmamoğlu\n",
      " (5929) Binali Yıldırım\n",
      " (5928) Someone else\n",
      "\n",
      "IFP 2075: How many battle deaths will ACLED record in India in June 2019?\n",
      "Description: The Armed Conflict Location and Event Dataset (ACLED) summarizes press reports on conflict and protest events in Africa and parts of Asia. The relevant data can be accessed using the export tool at <a href = \"https://www.acleddata.com/data/\"target=\"_blank\">https://www.acleddata.com/data/</a>: \n",
      "- Set 'From' to the first day of the period of interest; \n",
      "- Set 'To' to the last day of the period of interest; \n",
      "- Set 'Country' to the country of interest; \n",
      "- Click 'Export.'\n",
      "The count of battle deaths for the period of interest is obtained by summing the 'fatalities' column for events in which 'event_type' is Battles. If the count crosses the highest answer bin threshold before the close date, the question will be closed retroactively with the crossing date as the end date of the question.\n",
      "This question will be resolved by consulting the data source once each week sometime between 10:00 AM ET Wednesday and 4:00 PM ET Thursday, starting the Wednesday after the question close date and continuing once each week until the data are successfully retrieved.\n",
      "Starts: 2019-05-22T16:30:00.000Z, Ends: 2019-06-30T18:01:00.000Z\n",
      "Options:\n",
      " (5824) Less than 39\n",
      " (5825) Between 39 and 51, inclusive\n",
      " (5821) More than 51 but less than 62\n",
      " (5823) Between 62 and 77, inclusive\n",
      " (5822) More than 77\n",
      "\n",
      "IFP 2035: Before 30 July 2019, will Saad Dinar be released?\n",
      "Description: On 29 April 2019, Libyan Oil Workers' Union head Saad Dinar (also known as Saad Dinar el Fakhri) was reportedly captured by armed assailants (<a href = \"https://noc.ly/index.php/en/new-4/4759-noc-calls-for-immediate-safe-return-of-oil-workers-union-chief\"target=\"_blank\">NOC</a>, <a href = \"https://www.reuters.com/article/us-libya-security-oil/libyas-noc-calls-for-safe-return-of-head-of-oil-union-taken-in-east-idUSKCN1SA0J0\"target=\"_blank\">Reuters</a>, <a href = \"http://en.alwasat.ly/news/libya/244118\"target=\"_blank\">Alwasat</a>). For the purposes of this question, 'released' could include, but is not restricted to escape, rescue, or captor return, and he must be released alive. \n",
      "Starts: 2019-05-22T16:30:00.000Z, Ends: 2019-07-29T18:01:00.000Z\n",
      "Options:\n",
      " (5730) Yes\n",
      "\n",
      "IFP 2025: What percentage of respondents will say that Germany's federal government is working well ('gut') in the June 2019 Politbarometer survey? \n",
      "Description: This question will be resolved using the Elections Research Group's <a href=\"http://www.forschungsgruppe.de/Umfragen/Politbarometer/Langzeitentwicklung_-_Themen_im_Ueberblick/Politik_II/#ZufPartner\"target=\"_blank\">Forschungsgruppe</a> website. To access the relevant data, select 'Table' (Tabelle) under the heading 'Work of the Federal Government' (Arbeit der Bundesregierung). The relevant rating is in the 'good' (gut) column. This question will be resolved by consulting the data source once each week sometime between 10:00 AM ET Wednesday and 4:00 PM ET Thursday, starting the Wednesday after the question close date and continuing once each week until the data are successfully retrieved. If Elections Research Group conducts more than one survey in a month, question resolution will be based on the first set of results posted.\n",
      "Starts: 2019-05-22T16:30:00.000Z, Ends: 2019-06-30T18:01:00.000Z\n",
      "Options:\n",
      " (5716) Less than 49\n",
      " (5720) Between 49 and 54, inclusive\n",
      " (5719) More than 54 but less than 58\n",
      " (5718) Between 58 and 62, inclusive\n",
      " (5717) More than 62\n",
      "\n",
      "IFP 2020: What will be the daily closing price of platinum on 25 June 2019 in USD?\n",
      "Description: This question will be resolved using the last daily London Bullion Market Association (LBMA) Platinum Price USD (PM) <a href=\"http://www.lbma.org.uk/precious-metal-prices\"target=\"_blank\">http://www.lbma.org.uk/precious-metal-prices</a> for the date of interest. To access the relevant data:\n",
      "- Select 'Table'; \n",
      "- Select 'Platinum' from the 'Price for' dropdown menu; \n",
      "- Refer to the 'PM' column under 'USD.' \n",
      "This question will be closed on the day before the date of interest.\n",
      "Starts: 2019-05-22T16:30:00.000Z, Ends: 2019-06-24T18:01:00.000Z\n",
      "Options:\n",
      " (5693) Less than $790\n",
      " (5695) Between $790 and $830, inclusive\n",
      " (5691) More than $830 but less than $870\n",
      " (5692) Between $870 and $920, inclusive\n",
      " (5694) More than $920\n",
      "\n",
      "IFP 2010: What will be the closing value of the Colombian Peso to one U.S. Dollar exchange rate on 7 June 2019?\n",
      "Description: This question will be resolved using the closing value reported by Bloomberg for the date of interest.\n",
      "- Go to <a href=\"https://www.bloomberg.com/quote/USDCOP:CUR\"target=\"_blank\">Bloomberg</a>;\n",
      "- Click 'VIEW FULL CHART' above the chart on the right;\n",
      "- Click the one month time frame '1M'.\n",
      "Question will be closed the day before the date of interest.\n",
      "Starts: 2019-05-22T16:30:00.000Z, Ends: 2019-06-06T18:01:00.000Z\n",
      "Options:\n",
      " (5645) Less than 3,329\n",
      " (5644) Between 3,329 and 3,347, inclusive\n",
      " (5643) More than 3,347 but less than 3,363\n",
      " (5642) Between 3,363 and 3,381, inclusive\n",
      " (5641) More than 3,381\n",
      "\n",
      "IFP 2005: How many homicides will the Mexican government report for Guerrero in June 2019?\n",
      "Description: This question will be resolved using data reported by The Executive Secretariat of the National Public Security System of the Mexican government. To download the relevant data: \n",
      "- Go to <a href=\"https://www.gob.mx/sesnsp/acciones-y-programas/victimas-nueva-metodologia?state=published\"target=\"_blank\">National Public Security System</a>; \n",
      "- Download the spreadsheet under 'Reportes de víctimas por año (formato PDF)', entitled 'Victimas 2019'; \n",
      "- The number of homicides are reported in the table for the State of interest (the name of the Mexican state can be found under \"Victimas de delitos del fuero común\") in row 1.1 ('Homicidio') for the month of interest. \n",
      "This question will be resolved by consulting the data source once each week sometime between 10:00 AM ET Wednesday and 4:00 PM ET Thursday, starting the Wednesday after the question close date and continuing once each week until the data are successfully retrieved. \n",
      "Starts: 2019-05-22T16:30:00.000Z, Ends: 2019-06-30T18:01:00.000Z\n",
      "Options:\n",
      " (5620) Less than 211\n",
      " (5619) Between 211 and 231, inclusive\n",
      " (5618) More than 231 but less than 246\n",
      " (5617) Between 246 and 265, inclusive\n",
      " (5616) More than 265\n",
      "\n",
      "IFP 1990: By 28 May 2019, how many signatures will Petition #89118 receive regarding Germany's recognition of the Ukraine Holodomor as genocide?\n",
      "Description: Only a handful of countries have officially recognized the Ukraine Holodomor as an act of genocide (<a href = \"http://holodomorct.org/holodomor-facts-and-history/\"target=\"_blank\">HolodomorOrg</a>, <a href = \"http://memorialholodomor.org.ua/eng/holodomor/genocide/act\"target=\"_blank\">MemorialHolodomorOrg</a>). In order for German Ministers of Parliament to review the petition, it must first receive 50,000 signatures which can be tracked at (<a href = \"https://epetitionen.bundestag.de/content/petitionen/_2018/_12/_14/Petition_89118.html\"target=\"_blank\">BundestagPetition89118</a> (in German; view the signature count on the right side of the page under \"Anzahl Online-Mitzeichner\" (translated: \"Number of online subscribers\")). This question will be resolved by consulting the BundestagPetition89118 between 12:00 PM and 2:00 PM ET on 28 May 2019. Resolution will be based on the value observed at the time of source consultation.\n",
      "Starts: 2019-05-15T16:30:00.000Z, Ends: 2019-05-27T18:01:00.000Z\n",
      "Options:\n",
      " (5575) Less than 30,000\n",
      " (5574) Between 30,000 and 39,999, inclusive\n",
      " (5573) Between 40,000 and 49,999, inclusive\n",
      " (5572) More than 49,999\n",
      "\n",
      "IFP 1980: Between 16 May 2019 and 30 July 2019, will the president of the Democratic Republic of the Congo (DRC) appoint a prime minister?\n",
      "Description: Disagreements between recently elected President Felix Tshisekedi of the DRC and former President Joseph Kabila (who remains influential as the leader of the majority party in the National Assembly) have produced a stalemate on a range of issues, including the appointment of a prime minister (<a href = \"https://worldview.stratfor.com/situation-report/congo-no-government-place-3-months-after-tshisekedi-assumed-office\"target=\"_blank\">Stratfor</a>, <a href = \"https://www.theeastafrican.co.ke/news/africa/Felix-tshisekedi-turned-down-joseph-kbila-PM-pick/4552902-5063776-11us1f1/index.html\"target=\"_blank\">TheEastAfrican</a>, <a href = \"https://www.dw.com/en/drcs-felix-tshisekedi-still-a-president-without-a-cabinet/a-48588554\"target=\"_blank\">DW</a>, <a href = \"https://www.reuters.com/article/us-congo-politics/congos-ex-leader-kabilas-party-to-pick-prime-minister-sources-idUSKCN1QP1V9\"target=\"_blank\">Reuters</a>). The president establishing a fact-finding mission, or \"mission d'information\" per Article 78 of the constitution, will not count (<a href = \"https://www.constituteproject.org/constitution/Democratic_Republic_of_the_Congo_2011.pdf?lang=en\"target=\"_blank\">ConstitutionProjectDRC</a>).\n",
      "Starts: 2019-05-15T16:30:00.000Z, Ends: 2019-07-30T18:01:00.000Z\n",
      "Options:\n",
      " (5530) Yes\n",
      "\n",
      "IFP 1970: What will be the daily closing price of silver on 24 May 2019 in USD?\n",
      "Description: This question will be resolved using the last daily London Bullion Market Association (LBMA) Silver Price USD (PM) <a href=\"http://www.lbma.org.uk/precious-metal-prices\"target=\"_blank\">http://www.lbma.org.uk/precious-metal-prices</a> for the date of interest. To access the relevant data:\n",
      "- Select 'Table';\n",
      "- Select 'Silver' from the 'Price for' drop down menu;\n",
      "- Refer to the 'PM' column under 'USD.' \n",
      "Question will be closed on the day before the date of interest. \n",
      "Starts: 2019-05-15T16:30:00.000Z, Ends: 2019-05-23T18:01:00.000Z\n",
      "Options:\n",
      " (5520) Less than $13.81\n",
      " (5516) Between $13.81 and $14.37, inclusive\n",
      " (5517) More than $14.37 but less than $14.86\n",
      " (5518) Between $14.86 and $15.42, inclusive\n",
      " (5519) More than $15.42\n",
      "\n",
      "IFP 1955: What will be the price of casual labor (unskilled, daily, without food) in Somalia in the Elwak market for June 2019?\n",
      "Description: The Famine Early Warning Systems Network (FEWS NET) provides early warning and analysis on acute food insecurity around the world. The question will be resolved using data downloaded from FEWS NET at: <a href=\"http://fews.net/content/staple-food-price-data-1995-present\" target=\"_blank\">http://fews.net/content/staple-food-price-data-1995-present</a>. The relevant price can be found where 'country' is the country of interest; 'market' is the market of interest; 'product' is the product of interest; 'period_date' is the date of interest; and 'value' is the price. This question will be resolved by consulting the data source once each week sometime between 10:00 AM ET Wednesday and 4:00 PM ET Thursday, starting the Wednesday after the question close date and continuing once each week until the data are successfully retrieved.\n",
      "Starts: 2019-05-15T16:30:00.000Z, Ends: 2019-06-30T18:01:00.000Z\n",
      "Options:\n",
      " (5485) Less than 102,600\n",
      " (5484) Between 102,600 and 109,500, inclusive\n",
      " (5483) More than 109,500 but less than 115,500\n",
      " (5482) Between 115,500 and 122,400, inclusive\n",
      " (5481) More than 122,400\n",
      "\n",
      "IFP 1945: Will Sudan execute or be targeted in a national military attack between 16 May 2019 and 30 June 2019?\n",
      "Description: A \"national military attack\" includes the employment of conventional or unconventional weapons by one country's national military forces (to include special forces) on another country's military, military assets, or territory, including citizens located within that territory, but excluding territorial waters, foreign missions, and/or exclusive economic zones. A \"cyber\" attack will not qualify as a \"national military attack.\" \n",
      "Starts: 2019-05-15T16:30:00.000Z, Ends: 2019-06-30T18:01:00.000Z\n",
      "Options:\n",
      " (5435) Yes\n",
      "\n",
      "IFP 1940: What will be the daily closing price of gold on 10 July 2019 in USD?\n",
      "Description: This question will be resolved using the last daily London Bullion Market Association (LBMA) Gold Price USD (PM) <a href=\"http://www.lbma.org.uk/precious-metal-prices\"target=\"_blank\">http://www.lbma.org.uk/precious-metal-prices</a> for the date of interest. To access the relevant data:\n",
      "- Select 'Table';\n",
      "- Refer to the 'PM' column under 'USD.' \n",
      "Question will be closed on the day before the date of interest.\n",
      "Starts: 2019-05-15T16:30:00.000Z, Ends: 2019-07-09T18:01:00.000Z\n",
      "Options:\n",
      " (5430) Less than $1,160\n",
      " (5429) Between $1,160 and $1,250, inclusive\n",
      " (5428) More than $1,250 but less than $1,320\n",
      " (5427) Between $1,320 and $1,400, inclusive\n",
      " (5426) More than $1,400\n",
      "\n",
      "IFP 1935: Will ACLED record any riots in Thailand between 7 June 2019 and 7 July 2019?\n",
      "Description: The Armed Conflict Location and Event Dataset (ACLED) summarizes press reports on conflict and protest events in Africa and parts of Asia. The relevant data can be accessed using the export tool at <a href = \"https://www.acleddata.com/data/\"target=\"_blank\">https://www.acleddata.com/data/</a>: \n",
      "- Set 'From' to the first day of the period of interest; \n",
      "- Set 'To' to the last day of the period of interest; \n",
      "- Set 'Country' to the country of interest;\n",
      "- Click 'Export.' \n",
      "The question will resolve as \"yes\" if ACLED records any event for which 'event_type' is Riots. If a qualifying event is recorded, the question will be closed retroactively with the date of the first event as the end date of the question.\n",
      "This question will be resolved by consulting the data source once each week sometime between 10:00 AM ET Wednesday and 4:00 PM ET Thursday, starting the Wednesday after the question close date and continuing once each week until the data are successfully retrieved. \n",
      "Starts: 2019-05-15T16:30:00.000Z, Ends: 2019-07-07T18:01:00.000Z\n",
      "Options:\n",
      " (5405) Yes\n",
      "\n",
      "IFP 1925: What will be the daily closing spot price of Brent crude oil (USD per barrel) on 12 June 2019, according to the U.S. EIA?\n",
      "Description: This question will be resolved using the daily closing spot price for wholesale Brent crude oil reported by the Energy Information Administration (<a href=\"https://www.eia.gov/dnav/pet/pet_pri_spt_s1_d.htm\"target=\"_blank\">https://www.eia.gov/dnav/pet/pet_pri_spt_s1_d.htm</a>). \n",
      "Starts: 2019-05-15T16:30:00.000Z, Ends: 2019-06-11T18:01:00.000Z\n",
      "Options:\n",
      " (5395) Less than $62.21 \n",
      " (5394) Between $62.21 and $68.51, inclusive\n",
      " (5393) More than $68.51 but less than $73.93\n",
      " (5392) Between $73.93 and $80.23, inclusive\n",
      " (5391) More than $80.23\n",
      "\n"
     ]
    }
   ],
   "source": [
    "closed_ifps=gf.get_questions(status=\"closed\", training_data=False)\n",
    "print(\"There are {} closed IFPs\\n\".format(len(closed_ifps)))\n",
    "\n",
    "for ifp in closed_ifps:\n",
    "    print(\"IFP {}: {}\".format(ifp['id'],ifp['name']))\n",
    "    print(\"Description: {}\".format(ifp['description']))\n",
    "    print(\"Starts: {}, Ends: {}\".format(ifp['starts_at'],ifp['ends_at']))\n",
    "    print(\"Options:\")\n",
    "    for answer in ifp['answers']:\n",
    "        print(' ({}) {}'.format(answer['id'],answer['name']))\n",
    "        \n",
    "    if ifp['clarifications']:\n",
    "        print('Clarifications:')\n",
    "        print(ifp['clarifications'])\n",
    "    print(\"\")    \n"
   ]
  },
  {
   "cell_type": "code",
   "execution_count": 24,
   "metadata": {
    "collapsed": true
   },
   "outputs": [],
   "source": [
    "today = time.strftime(\"%Y-%m-%d\")\n",
    "_filename = \"Closed IFP Snapshot {}.json\".format(today)\n",
    "_path = os.path.join(DATA_PATH, \"IFPs\", _filename)\n",
    "with open(_path, \"w\") as f:\n",
    "    json.dump(closed_ifps, f, ensure_ascii=False, sort_keys=True, indent=2)"
   ]
  },
  {
   "cell_type": "code",
   "execution_count": 25,
   "metadata": {
    "scrolled": true
   },
   "outputs": [
    {
     "name": "stdout",
     "output_type": "stream",
     "text": [
      "28 28\n"
     ]
    }
   ],
   "source": [
    "ifp_ids = [x[\"id\"] for x in closed_ifps]\n",
    "print(len(ifp_ids), len(set(ifp_ids)))"
   ]
  },
  {
   "cell_type": "code",
   "execution_count": 26,
   "metadata": {},
   "outputs": [
    {
     "data": {
      "text/plain": [
       "Counter({1925: 1,\n",
       "         1935: 1,\n",
       "         1940: 1,\n",
       "         1945: 1,\n",
       "         1955: 1,\n",
       "         1970: 1,\n",
       "         1980: 1,\n",
       "         1990: 1,\n",
       "         2005: 1,\n",
       "         2010: 1,\n",
       "         2020: 1,\n",
       "         2025: 1,\n",
       "         2035: 1,\n",
       "         2075: 1,\n",
       "         2115: 1,\n",
       "         2140: 1,\n",
       "         2145: 1,\n",
       "         2150: 1,\n",
       "         2165: 1,\n",
       "         2175: 1,\n",
       "         2220: 1,\n",
       "         2235: 1,\n",
       "         2255: 1,\n",
       "         2315: 1,\n",
       "         2335: 1,\n",
       "         2390: 1,\n",
       "         2410: 1,\n",
       "         2425: 1})"
      ]
     },
     "execution_count": 26,
     "metadata": {},
     "output_type": "execute_result"
    }
   ],
   "source": [
    "Counter([x[\"id\"] for x in closed_ifps])"
   ]
  },
  {
   "cell_type": "code",
   "execution_count": 27,
   "metadata": {
    "scrolled": false
   },
   "outputs": [
    {
     "data": {
      "text/plain": [
       "{'active?': False,\n",
       " 'answers': [{'active?': False,\n",
       "   'binary?': False,\n",
       "   'correctness_known_at': '2019-06-19T17:41:14.000Z',\n",
       "   'created_at': '2019-05-15T16:45:05.782Z',\n",
       "   'description': None,\n",
       "   'ended?': True,\n",
       "   'ends_at': None,\n",
       "   'id': 5395,\n",
       "   'name': 'Less than $62.21 ',\n",
       "   'normalized_probability': 1.0,\n",
       "   'probability': 1.0,\n",
       "   'probability_formatted': '100%',\n",
       "   'question_id': 1925,\n",
       "   'question_name': 'What will be the daily closing spot price of Brent crude oil (USD per barrel) on 12 June 2019, according to the U.S. EIA?',\n",
       "   'resolved?': True,\n",
       "   'resolved_at': '2019-06-20T13:30:10.531Z',\n",
       "   'resolving?': False,\n",
       "   'sort_order': 0,\n",
       "   'status': None,\n",
       "   'updated_at': '2019-06-20T13:30:10.540Z'},\n",
       "  {'active?': False,\n",
       "   'binary?': False,\n",
       "   'correctness_known_at': '2019-06-19T17:41:14.000Z',\n",
       "   'created_at': '2019-05-15T16:45:05.760Z',\n",
       "   'description': None,\n",
       "   'ended?': True,\n",
       "   'ends_at': None,\n",
       "   'id': 5394,\n",
       "   'name': 'Between $62.21 and $68.51, inclusive',\n",
       "   'normalized_probability': 0.0,\n",
       "   'probability': 0.0,\n",
       "   'probability_formatted': '0%',\n",
       "   'question_id': 1925,\n",
       "   'question_name': 'What will be the daily closing spot price of Brent crude oil (USD per barrel) on 12 June 2019, according to the U.S. EIA?',\n",
       "   'resolved?': True,\n",
       "   'resolved_at': '2019-06-20T13:30:10.599Z',\n",
       "   'resolving?': False,\n",
       "   'sort_order': 1,\n",
       "   'status': None,\n",
       "   'updated_at': '2019-06-20T13:30:10.610Z'},\n",
       "  {'active?': False,\n",
       "   'binary?': False,\n",
       "   'correctness_known_at': '2019-06-19T17:41:14.000Z',\n",
       "   'created_at': '2019-05-15T16:45:05.739Z',\n",
       "   'description': None,\n",
       "   'ended?': True,\n",
       "   'ends_at': None,\n",
       "   'id': 5393,\n",
       "   'name': 'More than $68.51 but less than $73.93',\n",
       "   'normalized_probability': 0.0,\n",
       "   'probability': 0.0,\n",
       "   'probability_formatted': '0%',\n",
       "   'question_id': 1925,\n",
       "   'question_name': 'What will be the daily closing spot price of Brent crude oil (USD per barrel) on 12 June 2019, according to the U.S. EIA?',\n",
       "   'resolved?': True,\n",
       "   'resolved_at': '2019-06-20T13:30:10.665Z',\n",
       "   'resolving?': False,\n",
       "   'sort_order': 2,\n",
       "   'status': None,\n",
       "   'updated_at': '2019-06-20T13:30:10.676Z'},\n",
       "  {'active?': False,\n",
       "   'binary?': False,\n",
       "   'correctness_known_at': '2019-06-19T17:41:14.000Z',\n",
       "   'created_at': '2019-05-15T16:45:05.704Z',\n",
       "   'description': None,\n",
       "   'ended?': True,\n",
       "   'ends_at': None,\n",
       "   'id': 5392,\n",
       "   'name': 'Between $73.93 and $80.23, inclusive',\n",
       "   'normalized_probability': 0.0,\n",
       "   'probability': 0.0,\n",
       "   'probability_formatted': '0%',\n",
       "   'question_id': 1925,\n",
       "   'question_name': 'What will be the daily closing spot price of Brent crude oil (USD per barrel) on 12 June 2019, according to the U.S. EIA?',\n",
       "   'resolved?': True,\n",
       "   'resolved_at': '2019-06-20T13:30:10.756Z',\n",
       "   'resolving?': False,\n",
       "   'sort_order': 3,\n",
       "   'status': None,\n",
       "   'updated_at': '2019-06-20T13:30:10.767Z'},\n",
       "  {'active?': False,\n",
       "   'binary?': False,\n",
       "   'correctness_known_at': '2019-06-19T17:41:14.000Z',\n",
       "   'created_at': '2019-05-15T16:45:05.667Z',\n",
       "   'description': None,\n",
       "   'ended?': True,\n",
       "   'ends_at': None,\n",
       "   'id': 5391,\n",
       "   'name': 'More than $80.23',\n",
       "   'normalized_probability': 0.0,\n",
       "   'probability': 0.0,\n",
       "   'probability_formatted': '0%',\n",
       "   'question_id': 1925,\n",
       "   'question_name': 'What will be the daily closing spot price of Brent crude oil (USD per barrel) on 12 June 2019, according to the U.S. EIA?',\n",
       "   'resolved?': True,\n",
       "   'resolved_at': '2019-06-20T13:30:10.859Z',\n",
       "   'resolving?': False,\n",
       "   'sort_order': 4,\n",
       "   'status': None,\n",
       "   'updated_at': '2019-06-20T13:30:10.867Z'}],\n",
       " 'answers_count': 5,\n",
       " 'binary?': False,\n",
       " 'clarifications': [],\n",
       " 'created_at': '2019-05-15T16:45:05.662Z',\n",
       " 'description': 'This question will be resolved using the daily closing spot price for wholesale Brent crude oil reported by the Energy Information Administration (<a href=\"https://www.eia.gov/dnav/pet/pet_pri_spt_s1_d.htm\"target=\"_blank\">https://www.eia.gov/dnav/pet/pet_pri_spt_s1_d.htm</a>).\\xa0',\n",
       " 'election_question': False,\n",
       " 'ends_at': '2019-06-11T18:01:00.000Z',\n",
       " 'id': 1925,\n",
       " 'metadata': {'Country - Primary': 'N/A - Not Country-specific',\n",
       "  'Country - Secondary': 'N/A - Not Country-specific',\n",
       "  'Domain': 'Macroeconomics/Finance',\n",
       "  'Region': 'Global',\n",
       "  'Topic': 'Oil prices'},\n",
       " 'name': 'What will be the daily closing spot price of Brent crude oil (USD per barrel) on 12 June 2019, according to the U.S. EIA?',\n",
       " 'published_at': '2019-05-15T16:45:05.852Z',\n",
       " 'resolution_notes': ['$61.66'],\n",
       " 'resolved?': True,\n",
       " 'resolved_at': '2019-06-20T13:30:10.934Z',\n",
       " 'scoring_end_time': '2019-06-11T14:00:59.000-04:00',\n",
       " 'scoring_start_time': '2019-05-15T14:01:00.000-04:00',\n",
       " 'starts_at': '2019-05-15T16:30:00.000Z',\n",
       " 'state': 'resolved',\n",
       " 'type': 'Forecast::Question',\n",
       " 'updated_at': '2019-06-20T14:07:59.626Z',\n",
       " 'use_ordinal_scoring': True,\n",
       " 'void_reason': None,\n",
       " 'voided_at': None}"
      ]
     },
     "execution_count": 27,
     "metadata": {},
     "output_type": "execute_result"
    }
   ],
   "source": [
    "closed_ifps[-1]"
   ]
  },
  {
   "cell_type": "code",
   "execution_count": 28,
   "metadata": {},
   "outputs": [
    {
     "data": {
      "text/plain": [
       "[]"
      ]
     },
     "execution_count": 28,
     "metadata": {},
     "output_type": "execute_result"
    }
   ],
   "source": [
    "[(x[\"active?\"], x[\"name\"]) for x in all_ifps if x[\"id\"] == 840]"
   ]
  },
  {
   "cell_type": "code",
   "execution_count": 29,
   "metadata": {},
   "outputs": [
    {
     "data": {
      "text/plain": [
       "Counter({False: 13, True: 15})"
      ]
     },
     "execution_count": 29,
     "metadata": {},
     "output_type": "execute_result"
    }
   ],
   "source": [
    "Counter([x[\"resolved?\"] for x in closed_ifps])"
   ]
  },
  {
   "cell_type": "code",
   "execution_count": 30,
   "metadata": {},
   "outputs": [
    {
     "name": "stdout",
     "output_type": "stream",
     "text": [
      "There are 13 pages\n",
      "There are 122 new IFPs\n",
      "\n"
     ]
    }
   ],
   "source": [
    "all_ifps=gf.get_questions(status=\"all\")\n",
    "print(\"There are {} new IFPs\\n\".format(len(all_ifps)))"
   ]
  },
  {
   "cell_type": "code",
   "execution_count": 29,
   "metadata": {
    "collapsed": true
   },
   "outputs": [],
   "source": [
    "today = time.strftime(\"%Y-%m-%d\")\n",
    "_filename = \"All IFP Snapshot {}.json\".format(today)\n",
    "_path = os.path.join(DATA_PATH, \"IFPs\", _filename)\n",
    "with open(_path, \"w\") as f:\n",
    "    json.dump(all_ifps, f, ensure_ascii=False, sort_keys=True, indent=2)"
   ]
  },
  {
   "cell_type": "code",
   "execution_count": 30,
   "metadata": {
    "collapsed": true
   },
   "outputs": [],
   "source": [
    "ifp_corpus_dict = {\"ID {}\".format(x[\"id\"]): \" \".join((x[\"name\"], x[\"description\"])) \n",
    "                   for x in all_ifps}"
   ]
  },
  {
   "cell_type": "code",
   "execution_count": 31,
   "metadata": {},
   "outputs": [
    {
     "data": {
      "text/plain": [
       "dict_keys(['ID 630', 'ID 1070', 'ID 1080', 'ID 1180', 'ID 1210', 'ID 665', 'ID 1190', 'ID 790', 'ID 875', 'ID 695', 'ID 800', 'ID 840', 'ID 1130', 'ID 835', 'ID 1330', 'ID 730', 'ID 1135', 'ID 1220', 'ID 1035', 'ID 1155', 'ID 1315', 'ID 1340', 'ID 1015', 'ID 935', 'ID 855', 'ID 1065', 'ID 1020', 'ID 725', 'ID 625', 'ID 1200', 'ID 815', 'ID 1175', 'ID 950', 'ID 910', 'ID 1325', 'ID 880', 'ID 1230', 'ID 1170', 'ID 930', 'ID 1150', 'ID 735', 'ID 1270', 'ID 1100', 'ID 1090', 'ID 1275', 'ID 1245', 'ID 635', 'ID 980', 'ID 1310', 'ID 1060', 'ID 1235', 'ID 750', 'ID 1367', 'ID 685', 'ID 775', 'ID 805', 'ID 1030', 'ID 785', 'ID 850', 'ID 1225', 'ID 1362', 'ID 1195', 'ID 1205', 'ID 1300', 'ID 1250', 'ID 680', 'ID 765', 'ID 760', 'ID 870', 'ID 1165', 'ID 660', 'ID 1055', 'ID 650', 'ID 655', 'ID 1125', 'ID 845', 'ID 915', 'ID 830', 'ID 1355', 'ID 715', 'ID 925', 'ID 1025', 'ID 1045', 'ID 755', 'ID 975', 'ID 740', 'ID 610', 'ID 1290', 'ID 1240', 'ID 860', 'ID 995', 'ID 985', 'ID 865', 'ID 745', 'ID 705', 'ID 1140', 'ID 970', 'ID 1320', 'ID 1000', 'ID 640', 'ID 955', 'ID 900', 'ID 1360', 'ID 1335', 'ID 1040', 'ID 1050', 'ID 645', 'ID 620', 'ID 1255', 'ID 770', 'ID 1145', 'ID 895', 'ID 1120', 'ID 965', 'ID 1075', 'ID 1350', 'ID 690', 'ID 1305', 'ID 820', 'ID 1265', 'ID 920', 'ID 990', 'ID 890', 'ID 905', 'ID 1285', 'ID 1280', 'ID 710', 'ID 780', 'ID 720', 'ID 825', 'ID 960', 'ID 1345', 'ID 700', 'ID 1110', 'ID 1295', 'ID 810', 'ID 1160', 'ID 670', 'ID 1260', 'ID 605', 'ID 675', 'ID 615', 'ID 1005', 'ID 1010', 'ID 1085', 'ID 1095', 'ID 1115', 'ID 1185', 'ID 940', 'ID 1105', 'ID 795', 'ID 885', 'ID 945', 'ID 1215'])"
      ]
     },
     "execution_count": 31,
     "metadata": {},
     "output_type": "execute_result"
    }
   ],
   "source": [
    "ifp_corpus_dict.keys()"
   ]
  },
  {
   "cell_type": "code",
   "execution_count": 32,
   "metadata": {},
   "outputs": [
    {
     "ename": "KeyError",
     "evalue": "'ID 101'",
     "output_type": "error",
     "traceback": [
      "\u001b[0;31m---------------------------------------------------------------------------\u001b[0m",
      "\u001b[0;31mKeyError\u001b[0m                                  Traceback (most recent call last)",
      "\u001b[0;32m<ipython-input-32-107d8560f8fa>\u001b[0m in \u001b[0;36m<module>\u001b[0;34m()\u001b[0m\n\u001b[0;32m----> 1\u001b[0;31m \u001b[0mifp_corpus_dict\u001b[0m\u001b[0;34m[\u001b[0m\u001b[0;34m\"ID 101\"\u001b[0m\u001b[0;34m]\u001b[0m\u001b[0;34m\u001b[0m\u001b[0m\n\u001b[0m",
      "\u001b[0;31mKeyError\u001b[0m: 'ID 101'"
     ]
    }
   ],
   "source": [
    "ifp_corpus_dict[\"ID 101\"]"
   ]
  },
  {
   "cell_type": "code",
   "execution_count": null,
   "metadata": {
    "collapsed": true
   },
   "outputs": [],
   "source": [
    "for ifp in ifp_corpus_dict:\n",
    "    _filename = \"{}.txt\".format(ifp)\n",
    "    _path = os.path.join(IFP_CORPUS_PATH, _filename)\n",
    "    with open(_path, \"w\") as f:\n",
    "        f.write(ifp_corpus_dict[ifp])"
   ]
  },
  {
   "cell_type": "code",
   "execution_count": null,
   "metadata": {
    "collapsed": true
   },
   "outputs": [],
   "source": []
  }
 ],
 "metadata": {
  "anaconda-cloud": {},
  "kernelspec": {
   "display_name": "Python 3",
   "language": "python",
   "name": "python3"
  },
  "language_info": {
   "codemirror_mode": {
    "name": "ipython",
    "version": 3
   },
   "file_extension": ".py",
   "mimetype": "text/x-python",
   "name": "python",
   "nbconvert_exporter": "python",
   "pygments_lexer": "ipython3",
   "version": "3.5.2"
  }
 },
 "nbformat": 4,
 "nbformat_minor": 2
}
