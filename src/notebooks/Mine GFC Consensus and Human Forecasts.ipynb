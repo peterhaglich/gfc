{
 "cells": [
  {
   "cell_type": "code",
   "execution_count": 1,
   "metadata": {},
   "outputs": [
    {
     "data": {
      "text/plain": [
       "'/Users/peterhaglich/Dropbox/Work/IARPA/HFC/gfc/gfc/src/notebooks'"
      ]
     },
     "execution_count": 1,
     "metadata": {},
     "output_type": "execute_result"
    }
   ],
   "source": [
    "pwd"
   ]
  },
  {
   "cell_type": "code",
   "execution_count": 2,
   "metadata": {},
   "outputs": [
    {
     "name": "stdout",
     "output_type": "stream",
     "text": [
      "/Users/peterhaglich/Dropbox/Work/IARPA/HFC/gfc/gfc/src\n"
     ]
    }
   ],
   "source": [
    "cd .."
   ]
  },
  {
   "cell_type": "code",
   "execution_count": 7,
   "metadata": {
    "collapsed": true
   },
   "outputs": [],
   "source": [
    "import requests\n",
    "import time\n",
    "import datetime\n",
    "from dateutil.parser import parse\n",
    "import os\n",
    "import json\n",
    "import pandas as pd\n",
    "\n",
    "from collections import Counter\n",
    "from gfcapi.gfcapi import GfcApi"
   ]
  },
  {
   "cell_type": "code",
   "execution_count": 4,
   "metadata": {},
   "outputs": [
    {
     "name": "stdout",
     "output_type": "stream",
     "text": [
      "a0a4d8f1a34501875101650ee2d60a2dc9dd27c38f0e1262a57ce7e1af1743a1\n"
     ]
    }
   ],
   "source": [
    "DATA_PATH = os.path.join(\"..\", \"data\", \"gfc2_data\")\n",
    "AUTH_PATH = os.path.join(\"resources\", \"auth.json\")\n",
    "with open(AUTH_PATH, \"r\") as f:\n",
    "    auth_dict = json.load(f)\n",
    "    secret_token = auth_dict['gfc_token']\n",
    "    print(secret_token)\n",
    "SERVER = 'https://api.iarpagfchallenge.com'\n",
    "Q_ENDPOINT = '/api/v1/questions'\n",
    "url = SERVER + '/api/v1/questions' # The endpoint to retrieve questions\n",
    "headers = {'Authorization':'Bearer ' + secret_token}\n",
    "params = {} # More to come on this in a moment\n",
    "instance='production'\n",
    "gf=GfcApi(token=secret_token,server=SERVER,verbose=False)"
   ]
  },
  {
   "cell_type": "code",
   "execution_count": 8,
   "metadata": {
    "collapsed": true
   },
   "outputs": [],
   "source": [
    "DAY_0 = \"2019-05-15\"\n",
    "DAY_N = \"2019-07-08\"\n",
    "\n",
    "\n",
    "rct_dr = pd.date_range(DAY_0, DAY_N)\n",
    "the_days = [x.date().isoformat() for x in rct_dr]"
   ]
  },
  {
   "cell_type": "markdown",
   "metadata": {},
   "source": [
    "Get the consensus histories"
   ]
  },
  {
   "cell_type": "code",
   "execution_count": 9,
   "metadata": {},
   "outputs": [
    {
     "name": "stdout",
     "output_type": "stream",
     "text": [
      "Processing 2019-05-15\n",
      "There are 19 pages\n",
      "Processing 2019-05-16\n",
      "There are 29 pages\n",
      "Processing 2019-05-17\n",
      "There are 8 pages\n",
      "Processing 2019-05-18\n",
      "There are 5 pages\n",
      "Processing 2019-05-19\n",
      "There are 14 pages\n",
      "Processing 2019-05-20\n",
      "There are 26 pages\n",
      "Processing 2019-05-21\n",
      "There are 22 pages\n",
      "Processing 2019-05-22\n",
      "There are 25 pages\n",
      "Processing 2019-05-23\n",
      "There are 32 pages\n",
      "Processing 2019-05-24\n",
      "There are 13 pages\n",
      "Processing 2019-05-25\n",
      "There are 7 pages\n",
      "Processing 2019-05-26\n",
      "There are 14 pages\n",
      "Processing 2019-05-27\n",
      "There are 23 pages\n",
      "Processing 2019-05-28\n",
      "There are 26 pages\n",
      "Processing 2019-05-29\n",
      "There are 27 pages\n",
      "Processing 2019-05-30\n",
      "There are 40 pages\n",
      "Processing 2019-05-31\n",
      "There are 11 pages\n",
      "Processing 2019-06-01\n",
      "There are 6 pages\n",
      "Processing 2019-06-02\n",
      "There are 15 pages\n",
      "Processing 2019-06-03\n",
      "There are 31 pages\n",
      "Processing 2019-06-04\n",
      "There are 29 pages\n",
      "Processing 2019-06-05\n",
      "There are 27 pages\n",
      "Processing 2019-06-06\n",
      "There are 46 pages\n",
      "Processing 2019-06-07\n",
      "There are 15 pages\n",
      "Processing 2019-06-08\n",
      "There are 5 pages\n",
      "Processing 2019-06-09\n",
      "There are 16 pages\n",
      "Processing 2019-06-10\n",
      "There are 29 pages\n",
      "Processing 2019-06-11\n",
      "There are 29 pages\n",
      "Processing 2019-06-12\n",
      "There are 29 pages\n",
      "Processing 2019-06-13\n",
      "There are 42 pages\n",
      "Processing 2019-06-14\n",
      "There are 13 pages\n",
      "Processing 2019-06-15\n",
      "There are 10 pages\n",
      "Processing 2019-06-16\n",
      "There are 18 pages\n",
      "Processing 2019-06-17\n",
      "There are 29 pages\n",
      "Processing 2019-06-18\n",
      "There are 28 pages\n",
      "Processing 2019-06-19\n",
      "There are 36 pages\n",
      "Processing 2019-06-20\n",
      "There are 49 pages\n",
      "Processing 2019-06-21\n",
      "There are 20 pages\n",
      "Processing 2019-06-22\n",
      "There are 11 pages\n",
      "Processing 2019-06-23\n",
      "There are 21 pages\n",
      "Processing 2019-06-24\n",
      "There are 41 pages\n",
      "Processing 2019-06-25\n",
      "There are 32 pages\n",
      "Processing 2019-06-26\n",
      "There are 33 pages\n",
      "Processing 2019-06-27\n",
      "There are 53 pages\n",
      "Processing 2019-06-28\n",
      "There are 18 pages\n",
      "Processing 2019-06-29\n",
      "There are 13 pages\n",
      "Processing 2019-06-30\n",
      "There are 21 pages\n",
      "Processing 2019-07-01\n",
      "There are 36 pages\n",
      "Processing 2019-07-02\n",
      "There are 36 pages\n",
      "Processing 2019-07-03\n",
      "There are 35 pages\n",
      "Processing 2019-07-04\n",
      "There are 42 pages\n",
      "Processing 2019-07-05\n",
      "There are 27 pages\n",
      "Processing 2019-07-06\n",
      "There are 6 pages\n",
      "Processing 2019-07-07\n",
      "There are 27 pages\n",
      "Processing 2019-07-08\n",
      "There are 37 pages\n"
     ]
    }
   ],
   "source": [
    "for dd in the_days:\n",
    "    print(\"Processing {}\".format(dd))\n",
    "    _created_after = \"{}T00:00:00\".format(dd)\n",
    "    _created_before = \"{}T23:59:59\".format(dd)\n",
    "    params = {\"created_after\": parse(_created_after),\n",
    "              \"created_before\": parse(_created_before)}\n",
    "    _cons = gf.get_consensus_histories(training_data=False, **params)\n",
    "    _path = os.path.join(DATA_PATH, \"Consensus_Histories\",\"Consensus_{}.json\".format(dd))\n",
    "    with open(_path, \"w\") as f:\n",
    "        json.dump(_cons, f, ensure_ascii=False, sort_keys=True, indent=2)"
   ]
  },
  {
   "cell_type": "markdown",
   "metadata": {},
   "source": [
    "Get the individual human forecasts"
   ]
  },
  {
   "cell_type": "code",
   "execution_count": 10,
   "metadata": {},
   "outputs": [
    {
     "name": "stdout",
     "output_type": "stream",
     "text": [
      "Processing 2019-05-15\n",
      "There are 7 pages\n",
      "Processing 2019-05-16\n",
      "There are 10 pages\n",
      "Processing 2019-05-17\n",
      "There are 3 pages\n",
      "Processing 2019-05-18\n",
      "There are 2 pages\n",
      "Processing 2019-05-19\n",
      "There are 5 pages\n",
      "Processing 2019-05-20\n",
      "There are 9 pages\n",
      "Processing 2019-05-21\n",
      "There are 7 pages\n",
      "Processing 2019-05-22\n",
      "There are 10 pages\n",
      "Processing 2019-05-23\n",
      "There are 14 pages\n",
      "Processing 2019-05-24\n",
      "There are 6 pages\n",
      "Processing 2019-05-25\n",
      "There are 3 pages\n",
      "Processing 2019-05-26\n",
      "There are 6 pages\n",
      "Processing 2019-05-27\n",
      "There are 9 pages\n",
      "Processing 2019-05-28\n",
      "There are 12 pages\n",
      "Processing 2019-05-29\n",
      "There are 10 pages\n",
      "Processing 2019-05-30\n",
      "There are 17 pages\n",
      "Processing 2019-05-31\n",
      "There are 6 pages\n",
      "Processing 2019-06-01\n",
      "There are 2 pages\n",
      "Processing 2019-06-02\n",
      "There are 7 pages\n",
      "Processing 2019-06-03\n",
      "There are 11 pages\n",
      "Processing 2019-06-04\n",
      "There are 12 pages\n",
      "Processing 2019-06-05\n",
      "There are 12 pages\n",
      "Processing 2019-06-06\n",
      "There are 18 pages\n",
      "Processing 2019-06-07\n",
      "There are 6 pages\n",
      "Processing 2019-06-08\n",
      "There are 3 pages\n",
      "Processing 2019-06-09\n",
      "There are 7 pages\n",
      "Processing 2019-06-10\n",
      "There are 12 pages\n",
      "Processing 2019-06-11\n",
      "There are 12 pages\n",
      "Processing 2019-06-12\n",
      "There are 12 pages\n",
      "Processing 2019-06-13\n",
      "There are 17 pages\n",
      "Processing 2019-06-14\n",
      "There are 6 pages\n",
      "Processing 2019-06-15\n",
      "There are 4 pages\n",
      "Processing 2019-06-16\n",
      "There are 7 pages\n",
      "Processing 2019-06-17\n",
      "There are 13 pages\n",
      "Processing 2019-06-18\n",
      "There are 12 pages\n",
      "Processing 2019-06-19\n",
      "There are 13 pages\n",
      "Processing 2019-06-20\n",
      "There are 20 pages\n",
      "Processing 2019-06-21\n",
      "There are 8 pages\n",
      "Processing 2019-06-22\n",
      "There are 5 pages\n",
      "Processing 2019-06-23\n",
      "There are 8 pages\n",
      "Processing 2019-06-24\n",
      "There are 14 pages\n",
      "Processing 2019-06-25\n",
      "There are 13 pages\n",
      "Processing 2019-06-26\n",
      "There are 13 pages\n",
      "Processing 2019-06-27\n",
      "There are 20 pages\n",
      "Processing 2019-06-28\n",
      "There are 8 pages\n",
      "Processing 2019-06-29\n",
      "There are 5 pages\n",
      "Processing 2019-06-30\n",
      "There are 8 pages\n",
      "Processing 2019-07-01\n",
      "There are 14 pages\n",
      "Processing 2019-07-02\n",
      "There are 13 pages\n",
      "Processing 2019-07-03\n",
      "There are 13 pages\n",
      "Processing 2019-07-04\n",
      "There are 16 pages\n",
      "Processing 2019-07-05\n",
      "There are 9 pages\n",
      "Processing 2019-07-06\n",
      "There are 3 pages\n",
      "Processing 2019-07-07\n",
      "There are 10 pages\n",
      "Processing 2019-07-08\n",
      "There are 13 pages\n"
     ]
    }
   ],
   "source": [
    "for dd in the_days:\n",
    "    print(\"Processing {}\".format(dd))\n",
    "    _created_after = \"{}T00:00:00\".format(dd)\n",
    "    _created_before = \"{}T23:59:59\".format(dd)\n",
    "    params = {\"created_after\": parse(_created_after),\n",
    "              \"created_before\": parse(_created_before)}\n",
    "    _cons = gf.get_human_forecasts(training_data=False, **params)\n",
    "    _path = os.path.join(DATA_PATH, \"Human_Forecasts\",\"Human_Forecasts_{}.json\".format(dd))\n",
    "    with open(_path, \"w\") as f:\n",
    "        json.dump(_cons, f, ensure_ascii=False, sort_keys=True, indent=2)"
   ]
  },
  {
   "cell_type": "code",
   "execution_count": null,
   "metadata": {},
   "outputs": [],
   "source": []
  }
 ],
 "metadata": {
  "kernelspec": {
   "display_name": "Python 3",
   "language": "python",
   "name": "python3"
  },
  "language_info": {
   "codemirror_mode": {
    "name": "ipython",
    "version": 3
   },
   "file_extension": ".py",
   "mimetype": "text/x-python",
   "name": "python",
   "nbconvert_exporter": "python",
   "pygments_lexer": "ipython3",
   "version": "3.5.2"
  }
 },
 "nbformat": 4,
 "nbformat_minor": 2
}
