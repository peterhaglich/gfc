{
 "cells": [
  {
   "cell_type": "code",
   "execution_count": 1,
   "metadata": {},
   "outputs": [
    {
     "data": {
      "text/plain": [
       "'/Users/peterhaglich/Dropbox/Work/IARPA/HFC/gfc/gfc/src/notebooks'"
      ]
     },
     "execution_count": 1,
     "metadata": {},
     "output_type": "execute_result"
    }
   ],
   "source": [
    "pwd"
   ]
  },
  {
   "cell_type": "code",
   "execution_count": 2,
   "metadata": {
    "collapsed": true
   },
   "outputs": [],
   "source": [
    "import sys\n",
    "sys.path.append(\"..\")"
   ]
  },
  {
   "cell_type": "code",
   "execution_count": 3,
   "metadata": {
    "collapsed": true
   },
   "outputs": [],
   "source": [
    "import requests\n",
    "import time\n",
    "import datetime\n",
    "from dateutil.parser import parse\n",
    "import os\n",
    "import json\n",
    "import re\n",
    "import shutil\n",
    "import pandas as pd\n",
    "import numpy as np\n",
    "\n",
    "from collections import Counter\n",
    "from gfcapi.gfcapi import GfcApi, GfcAdminApi"
   ]
  },
  {
   "cell_type": "code",
   "execution_count": 4,
   "metadata": {},
   "outputs": [
    {
     "data": {
      "text/plain": [
       "'/Users/peterhaglich/Dropbox/Work/IARPA/HFC/gfc/gfc/src/notebooks'"
      ]
     },
     "execution_count": 4,
     "metadata": {},
     "output_type": "execute_result"
    }
   ],
   "source": [
    "pwd"
   ]
  },
  {
   "cell_type": "code",
   "execution_count": 15,
   "metadata": {},
   "outputs": [
    {
     "name": "stdout",
     "output_type": "stream",
     "text": [
      "a0a4d8f1a34501875101650ee2d60a2dc9dd27c38f0e1262a57ce7e1af1743a1\n"
     ]
    }
   ],
   "source": [
    "GFC_HOME = os.path.abspath(\"../..\")\n",
    "DATA_PATH = os.path.join(GFC_HOME, \"data\",\"gfc2_data\")\n",
    "SCORING_PATH = os.path.join(DATA_PATH, \"scoring\")\n",
    "IFP_DATA_PATH = os.path.join(DATA_PATH, \"IFPs\")\n",
    "IFP_CORPUS_PATH = os.path.join(DATA_PATH, \"IFP Corpus\")\n",
    "AUTH_PATH = os.path.join(GFC_HOME, \"src\", \"resources\", \"auth.json\")\n",
    "with open(AUTH_PATH, \"r\") as f:\n",
    "    auth_dict = json.load(f)\n",
    "    secret_token = auth_dict['gfc_token']\n",
    "    print(secret_token)\n",
    "SERVER = 'https://api.iarpagfchallenge.com'\n",
    "Q_ENDPOINT = '/api/v1/questions'\n",
    "url = SERVER + '/api/v1/questions' # The endpoint to retrieve questions\n",
    "headers = {'Authorization':'Bearer ' + secret_token}\n",
    "params = {} # More to come on this in a moment\n",
    "instance='production'\n",
    "new_token = \"a0a4d8f1a34501875101650ee2d60a2dc9dd27c38f0e1262a57ce7e1af1743a1\"\n",
    "gf=GfcAdminApi(token=new_token,server=SERVER,verbose=False)\n",
    "RCT_START = \"2019-05-15\"\n",
    "LAST_THURS = \"2019-07-04\"\n",
    "DATE_RE = re.compile(\"201[8-9]-[0-1][0-9]-[0-3][0-9]\")\n",
    "DATE_STR_FMT = \"%Y-%m-%d\""
   ]
  },
  {
   "cell_type": "markdown",
   "metadata": {},
   "source": [
    "Load the IFP snapshot"
   ]
  },
  {
   "cell_type": "code",
   "execution_count": 8,
   "metadata": {},
   "outputs": [
    {
     "name": "stdout",
     "output_type": "stream",
     "text": [
      "All IFP Snapshot 2019-07-09.json\n"
     ]
    }
   ],
   "source": [
    "# Find the IFP snapshots\n",
    "ifp_files = [x for x in os.listdir(IFP_DATA_PATH) if x.endswith(\"json\")\n",
    "             and \"Snapshot\" in x]\n",
    "# Find the latest snapshot date.\n",
    "latest_date = np.max([parse(re.findall(DATE_RE, x)[0]) \n",
    "                      for x in ifp_files]).date().strftime(DATE_STR_FMT)\n",
    "latest_sn_filename = \"All IFP Snapshot {}.json\".format(latest_date)\n",
    "print(latest_sn_filename)"
   ]
  },
  {
   "cell_type": "code",
   "execution_count": 9,
   "metadata": {},
   "outputs": [
    {
     "name": "stdout",
     "output_type": "stream",
     "text": [
      "122 122\n"
     ]
    }
   ],
   "source": [
    "with open(os.path.join(IFP_DATA_PATH, latest_sn_filename), \"r\", encoding=\"utf-8-sig\") as f:\n",
    "    ifps = json.load(f)\n",
    "ifp_ids = [i[\"id\"] for i in ifps]\n",
    "#dq_id_dict = {i[\"id\"]: i[\"question_id\"] for i in ifps}\n",
    "#dq_to_id_dict = {v:k for k,v in dq_id_dict.items()}\n",
    "print(len(ifps), len(ifp_ids))"
   ]
  },
  {
   "cell_type": "code",
   "execution_count": 10,
   "metadata": {},
   "outputs": [
    {
     "data": {
      "text/plain": [
       "122"
      ]
     },
     "execution_count": 10,
     "metadata": {},
     "output_type": "execute_result"
    }
   ],
   "source": [
    "len(ifp_ids)"
   ]
  },
  {
   "cell_type": "code",
   "execution_count": 11,
   "metadata": {
    "collapsed": true
   },
   "outputs": [],
   "source": [
    "DAY_0 = \"2019-05-15\"\n",
    "DAY_N = \"2019-07-08\"\n",
    "rct_dr = pd.date_range(DAY_0, DAY_N)\n",
    "the_days = [x.date().isoformat() for x in rct_dr]"
   ]
  },
  {
   "cell_type": "code",
   "execution_count": 16,
   "metadata": {},
   "outputs": [
    {
     "name": "stdout",
     "output_type": "stream",
     "text": [
      "2019-05-15\n",
      "There are 0 pages\n",
      "No scores on 2019-05-15\n",
      "2019-05-16\n",
      "There are 0 pages\n",
      "No scores on 2019-05-16\n",
      "2019-05-17\n",
      "There are 0 pages\n",
      "No scores on 2019-05-17\n",
      "2019-05-18\n",
      "There are 0 pages\n",
      "No scores on 2019-05-18\n",
      "2019-05-19\n",
      "There are 0 pages\n",
      "No scores on 2019-05-19\n",
      "2019-05-20\n",
      "There are 2 pages\n",
      "There were 80 scores on 2019-05-20\n",
      "2019-05-21\n"
     ]
    },
    {
     "ename": "KeyboardInterrupt",
     "evalue": "",
     "output_type": "error",
     "traceback": [
      "\u001b[0;31m---------------------------------------------------------------------------\u001b[0m",
      "\u001b[0;31mKeyboardInterrupt\u001b[0m                         Traceback (most recent call last)",
      "\u001b[0;32m<ipython-input-16-8940a2a9b627>\u001b[0m in \u001b[0;36m<module>\u001b[0;34m()\u001b[0m\n\u001b[1;32m      9\u001b[0m     \u001b[0;32mwhile\u001b[0m \u001b[0mn_tries\u001b[0m \u001b[0;34m<=\u001b[0m \u001b[0;36m10\u001b[0m \u001b[0;32mand\u001b[0m \u001b[0mh_success\u001b[0m \u001b[0;34m==\u001b[0m \u001b[0;32mFalse\u001b[0m\u001b[0;34m:\u001b[0m\u001b[0;34m\u001b[0m\u001b[0m\n\u001b[1;32m     10\u001b[0m         \u001b[0;32mtry\u001b[0m\u001b[0;34m:\u001b[0m\u001b[0;34m\u001b[0m\u001b[0m\n\u001b[0;32m---> 11\u001b[0;31m             \u001b[0m_scores\u001b[0m \u001b[0;34m=\u001b[0m \u001b[0mgf\u001b[0m\u001b[0;34m.\u001b[0m\u001b[0mget_scores\u001b[0m\u001b[0;34m(\u001b[0m\u001b[0;34m**\u001b[0m\u001b[0mparams\u001b[0m\u001b[0;34m)\u001b[0m\u001b[0;34m\u001b[0m\u001b[0m\n\u001b[0m\u001b[1;32m     12\u001b[0m             \u001b[0;32mif\u001b[0m \u001b[0m_scores\u001b[0m \u001b[0;32mis\u001b[0m \u001b[0;32mNone\u001b[0m\u001b[0;34m:\u001b[0m\u001b[0;34m\u001b[0m\u001b[0m\n\u001b[1;32m     13\u001b[0m                 \u001b[0mprint\u001b[0m\u001b[0;34m(\u001b[0m\u001b[0;34m\"None scores on {}\"\u001b[0m\u001b[0;34m.\u001b[0m\u001b[0mformat\u001b[0m\u001b[0;34m(\u001b[0m\u001b[0mdd\u001b[0m\u001b[0;34m)\u001b[0m\u001b[0;34m)\u001b[0m\u001b[0;34m\u001b[0m\u001b[0m\n",
      "\u001b[0;32m~/Dropbox/Work/IARPA/HFC/gfc/gfc/src/gfcapi/gfcapi.py\u001b[0m in \u001b[0;36mget_scores\u001b[0;34m(self, score_type, scoreable_id, created_before, created_after, updated_before, updated_after)\u001b[0m\n\u001b[1;32m    502\u001b[0m             \u001b[0mparams\u001b[0m\u001b[0;34m[\u001b[0m\u001b[0;34m'updated_after'\u001b[0m\u001b[0;34m]\u001b[0m \u001b[0;34m=\u001b[0m \u001b[0mupdated_after\u001b[0m\u001b[0;34m.\u001b[0m\u001b[0misoformat\u001b[0m\u001b[0;34m(\u001b[0m\u001b[0;34m)\u001b[0m\u001b[0;34m\u001b[0m\u001b[0m\n\u001b[1;32m    503\u001b[0m \u001b[0;34m\u001b[0m\u001b[0m\n\u001b[0;32m--> 504\u001b[0;31m         \u001b[0;32mreturn\u001b[0m \u001b[0mself\u001b[0m\u001b[0;34m.\u001b[0m\u001b[0m_get_pages\u001b[0m\u001b[0;34m(\u001b[0m\u001b[0murl\u001b[0m\u001b[0;34m=\u001b[0m\u001b[0murl\u001b[0m\u001b[0;34m,\u001b[0m \u001b[0msection\u001b[0m\u001b[0;34m=\u001b[0m\u001b[0msection\u001b[0m\u001b[0;34m,\u001b[0m \u001b[0mparams\u001b[0m\u001b[0;34m=\u001b[0m\u001b[0mparams\u001b[0m\u001b[0;34m)\u001b[0m\u001b[0;34m\u001b[0m\u001b[0m\n\u001b[0m\u001b[1;32m    505\u001b[0m \u001b[0;34m\u001b[0m\u001b[0m\n",
      "\u001b[0;32m~/Dropbox/Work/IARPA/HFC/gfc/gfc/src/gfcapi/gfcapi.py\u001b[0m in \u001b[0;36m_get_pages\u001b[0;34m(self, url, params, section)\u001b[0m\n\u001b[1;32m    302\u001b[0m \u001b[0;34m\u001b[0m\u001b[0m\n\u001b[1;32m    303\u001b[0m             \u001b[0mparams\u001b[0m\u001b[0;34m[\u001b[0m\u001b[0;34m'page'\u001b[0m\u001b[0;34m]\u001b[0m \u001b[0;34m=\u001b[0m \u001b[0mpage\u001b[0m \u001b[0;34m+\u001b[0m \u001b[0;36m1\u001b[0m\u001b[0;34m\u001b[0m\u001b[0m\n\u001b[0;32m--> 304\u001b[0;31m             \u001b[0mresp\u001b[0m \u001b[0;34m=\u001b[0m \u001b[0mself\u001b[0m\u001b[0;34m.\u001b[0m\u001b[0m_get\u001b[0m\u001b[0;34m(\u001b[0m\u001b[0murl\u001b[0m\u001b[0;34m=\u001b[0m\u001b[0murl\u001b[0m\u001b[0;34m,\u001b[0m \u001b[0mparams\u001b[0m\u001b[0;34m=\u001b[0m\u001b[0mparams\u001b[0m\u001b[0;34m)\u001b[0m\u001b[0;34m\u001b[0m\u001b[0m\n\u001b[0m\u001b[1;32m    305\u001b[0m             \u001b[0mmaxPage\u001b[0m \u001b[0;34m=\u001b[0m \u001b[0mint\u001b[0m\u001b[0;34m(\u001b[0m\u001b[0mresp\u001b[0m\u001b[0;34m.\u001b[0m\u001b[0mheaders\u001b[0m\u001b[0;34m.\u001b[0m\u001b[0mget\u001b[0m\u001b[0;34m(\u001b[0m\u001b[0;34m'X-Total-Page-Count'\u001b[0m\u001b[0;34m,\u001b[0m \u001b[0;36m0\u001b[0m\u001b[0;34m)\u001b[0m\u001b[0;34m)\u001b[0m\u001b[0;34m\u001b[0m\u001b[0m\n\u001b[1;32m    306\u001b[0m             \u001b[0;32mif\u001b[0m \u001b[0mshow_max_page\u001b[0m\u001b[0;34m:\u001b[0m\u001b[0;34m\u001b[0m\u001b[0m\n",
      "\u001b[0;32m~/Dropbox/Work/IARPA/HFC/gfc/gfc/src/gfcapi/gfcapi.py\u001b[0m in \u001b[0;36m_get\u001b[0;34m(self, url, params)\u001b[0m\n\u001b[1;32m    358\u001b[0m             \u001b[0;32mif\u001b[0m \u001b[0mself\u001b[0m\u001b[0;34m.\u001b[0m\u001b[0mverbose\u001b[0m\u001b[0;34m:\u001b[0m\u001b[0;34m\u001b[0m\u001b[0m\n\u001b[1;32m    359\u001b[0m                 \u001b[0mprint\u001b[0m\u001b[0;34m(\u001b[0m\u001b[0;34m\"{}: Sleeping\"\u001b[0m\u001b[0;34m.\u001b[0m\u001b[0mformat\u001b[0m\u001b[0;34m(\u001b[0m\u001b[0mtime\u001b[0m\u001b[0;34m.\u001b[0m\u001b[0mctime\u001b[0m\u001b[0;34m(\u001b[0m\u001b[0;34m)\u001b[0m\u001b[0;34m)\u001b[0m\u001b[0;34m)\u001b[0m\u001b[0;34m\u001b[0m\u001b[0m\n\u001b[0;32m--> 360\u001b[0;31m             \u001b[0mtime\u001b[0m\u001b[0;34m.\u001b[0m\u001b[0msleep\u001b[0m\u001b[0;34m(\u001b[0m\u001b[0;36m1\u001b[0m\u001b[0;34m)\u001b[0m\u001b[0;34m\u001b[0m\u001b[0m\n\u001b[0m\u001b[1;32m    361\u001b[0m \u001b[0;34m\u001b[0m\u001b[0m\n\u001b[1;32m    362\u001b[0m         \u001b[0mheaders\u001b[0m \u001b[0;34m=\u001b[0m \u001b[0;34m{\u001b[0m\u001b[0;34m'Authorization'\u001b[0m\u001b[0;34m:\u001b[0m \u001b[0;34m'Bearer '\u001b[0m \u001b[0;34m+\u001b[0m \u001b[0mself\u001b[0m\u001b[0;34m.\u001b[0m\u001b[0mtoken\u001b[0m\u001b[0;34m}\u001b[0m  \u001b[0;31m# This is needed to authenticate\u001b[0m\u001b[0;34m\u001b[0m\u001b[0m\n",
      "\u001b[0;31mKeyboardInterrupt\u001b[0m: "
     ]
    }
   ],
   "source": [
    "for dd in the_days:\n",
    "    print(dd)\n",
    "    _created_after = \"{0}T00:00:00.0\".format(dd)\n",
    "    _created_before = \"{0}T23:59:59.9\".format(dd)\n",
    "    params = {\"created_after\": parse(_created_after),\n",
    "              \"created_before\": parse(_created_before)}\n",
    "    n_tries = 0\n",
    "    h_success = False\n",
    "    while n_tries <= 10 and h_success == False:\n",
    "        try:\n",
    "            _scores = gf.get_scores(**params)\n",
    "            if _scores is None:\n",
    "                print(\"None scores on {}\".format(dd))\n",
    "            elif len(_scores) == 0:\n",
    "                print(\"No scores on {}\".format(dd))\n",
    "            else:\n",
    "                print(\"There were {} scores on {}\".format(len(_scores), dd))\n",
    "                _path = os.path.join(SCORING_PATH,\n",
    "                         \"Scoring_Snapshot_{0}.json\".format(dd))\n",
    "                with open(_path, \"w\") as f:\n",
    "                    json.dump(_scores, f, ensure_ascii=False, sort_keys=True, indent=2)\n",
    "            h_success = True\n",
    "        except (ValueError, AttributeError):\n",
    "            time.sleep(60)\n",
    "            n_tries += 1\n",
    "\n"
   ]
  },
  {
   "cell_type": "code",
   "execution_count": 17,
   "metadata": {},
   "outputs": [
    {
     "name": "stdout",
     "output_type": "stream",
     "text": [
      "There are 0 pages\n",
      "There are 0 pages\n",
      "There are 0 pages\n",
      "There are 0 pages\n",
      "There are 0 pages\n",
      "There are 0 pages\n",
      "There are 0 pages\n",
      "There are 0 pages\n",
      "There are 0 pages\n",
      "There are 0 pages\n",
      "There are 0 pages\n",
      "There are 0 pages\n",
      "There are 0 pages\n",
      "There are 0 pages\n",
      "There are 0 pages\n",
      "There are 0 pages\n",
      "There are 0 pages\n",
      "There are 0 pages\n",
      "There are 0 pages\n",
      "There are 0 pages\n",
      "There are 0 pages\n",
      "There are 19 pages\n",
      "There are 0 pages\n",
      "There are 0 pages\n",
      "There are 0 pages\n",
      "There are 0 pages\n",
      "There are 0 pages\n",
      "There are 0 pages\n",
      "There are 0 pages\n",
      "There are 0 pages\n",
      "There are 0 pages\n",
      "There are 0 pages\n",
      "There are 0 pages\n",
      "There are 0 pages\n",
      "There are 0 pages\n",
      "There are 0 pages\n",
      "There are 0 pages\n",
      "There are 0 pages\n",
      "There are 0 pages\n",
      "There are 0 pages\n",
      "There are 0 pages\n",
      "There are 0 pages\n",
      "There are 0 pages\n",
      "There are 19 pages\n",
      "There are 0 pages\n",
      "There are 0 pages\n",
      "There are 0 pages\n",
      "There are 0 pages\n",
      "There are 0 pages\n",
      "There are 0 pages\n",
      "There are 0 pages\n",
      "There are 0 pages\n",
      "There are 0 pages\n",
      "There are 0 pages\n",
      "There are 0 pages\n",
      "There are 19 pages\n",
      "There are 0 pages\n",
      "There are 0 pages\n",
      "There are 0 pages\n",
      "There are 0 pages\n",
      "There are 0 pages\n",
      "There are 0 pages\n",
      "There are 0 pages\n",
      "There are 0 pages\n",
      "There are 0 pages\n",
      "There are 0 pages\n",
      "There are 0 pages\n",
      "There are 0 pages\n",
      "There are 0 pages\n",
      "There are 0 pages\n",
      "There are 0 pages\n",
      "There are 0 pages\n",
      "There are 0 pages\n",
      "There are 19 pages\n",
      "There are 0 pages\n",
      "There are 0 pages\n",
      "There are 19 pages\n",
      "There are 0 pages\n",
      "There are 0 pages\n",
      "There are 0 pages\n",
      "There are 0 pages\n",
      "There are 0 pages\n",
      "There are 0 pages\n",
      "There are 19 pages\n",
      "There are 0 pages\n",
      "There are 0 pages\n",
      "There are 0 pages\n",
      "There are 0 pages\n",
      "There are 0 pages\n",
      "There are 0 pages\n",
      "There are 0 pages\n",
      "There are 0 pages\n",
      "There are 0 pages\n",
      "There are 0 pages\n",
      "There are 0 pages\n",
      "There are 0 pages\n",
      "There are 0 pages\n",
      "There are 0 pages\n",
      "There are 0 pages\n",
      "There are 19 pages\n",
      "There are 0 pages\n",
      "There are 0 pages\n",
      "There are 19 pages\n",
      "There are 0 pages\n",
      "There are 19 pages\n",
      "There are 0 pages\n",
      "There are 0 pages\n",
      "There are 0 pages\n",
      "There are 19 pages\n",
      "There are 0 pages\n",
      "There are 19 pages\n",
      "There are 0 pages\n",
      "There are 19 pages\n",
      "There are 0 pages\n",
      "There are 0 pages\n",
      "There are 0 pages\n",
      "There are 0 pages\n",
      "There are 19 pages\n",
      "There are 0 pages\n",
      "There are 0 pages\n",
      "There are 0 pages\n",
      "There are 19 pages\n"
     ]
    }
   ],
   "source": [
    "for q_id in ifp_ids:\n",
    "    _created_after = \"{0}T00:00:00\".format(DAY_0)\n",
    "    _created_before = \"{0}T23:59:59\".format(DAY_N)\n",
    "    params = {\"created_after\": parse(_created_after),\n",
    "              \"created_before\": parse(_created_before),\n",
    "              \"score_type\": \"question\",\n",
    "              \"scoreable_id\": q_id}\n",
    "    q_scores = gf.get_scores(**params)\n",
    "    if q_scores is None:\n",
    "        print(\"No scores for {}\".format(q_id))\n",
    "    else:\n",
    "        _path = os.path.join(SCORING_PATH, \"by_question\",\n",
    "                             \"Scoring_{}.json\".format(q_id))\n",
    "        with open(_path, \"w\") as f:\n",
    "            json.dump(q_scores, f, ensure_ascii=False, sort_keys=True, indent=2)"
   ]
  },
  {
   "cell_type": "code",
   "execution_count": null,
   "metadata": {
    "collapsed": true
   },
   "outputs": [],
   "source": []
  }
 ],
 "metadata": {
  "kernelspec": {
   "display_name": "Python 3",
   "language": "python",
   "name": "python3"
  },
  "language_info": {
   "codemirror_mode": {
    "name": "ipython",
    "version": 3
   },
   "file_extension": ".py",
   "mimetype": "text/x-python",
   "name": "python",
   "nbconvert_exporter": "python",
   "pygments_lexer": "ipython3",
   "version": "3.5.2"
  }
 },
 "nbformat": 4,
 "nbformat_minor": 2
}
